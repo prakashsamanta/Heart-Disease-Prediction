{
  "cells": [
    {
      "cell_type": "markdown",
      "metadata": {
        "id": "75175d91"
      },
      "source": [
        "# Project : Prediction Of Heart Disease"
      ],
      "id": "75175d91"
    },
    {
      "cell_type": "markdown",
      "metadata": {
        "id": "b0a0b558"
      },
      "source": [
        "#### Under supervision of Mrinmay Mj"
      ],
      "id": "b0a0b558"
    },
    {
      "cell_type": "markdown",
      "metadata": {
        "id": "a427d76a"
      },
      "source": [
        "# Problem Statement : Predict Heart disease from existing health conditions and lifestyle\n",
        "\n",
        "                 Heart disease is one of the leading causes of death for people of most races in the US (African Americans, American Indians and Alaska Natives, and white people). \n",
        "\n",
        "                 About half of all Americans (47%) have at least 1 of 3 key risk factors for heart disease: high blood pressure, high cholesterol, and smoking. \n",
        "\n",
        "                 Other key indicator include diabetic status, obesity (high BMI), not getting enough physical activity or drinking too much alcohol. \n",
        "\n",
        "                 Detecting and preventing the factors that have the greatest impact on heart disease is very important in healthcare. \n",
        "               \n",
        "               \n",
        "##### References : https://www.kaggle.com/datasets/kamilpytlak/personal-key-indicators-of-heart-disease"
      ],
      "id": "a427d76a"
    },
    {
      "cell_type": "markdown",
      "metadata": {
        "id": "889f5069"
      },
      "source": [
        "# Source of the dataset : \n",
        "#### https://www.kaggle.com/datasets/kamilpytlak/personal-key-indicators-of-heart-disease"
      ],
      "id": "889f5069"
    },
    {
      "cell_type": "markdown",
      "metadata": {
        "id": "cb3ccbee"
      },
      "source": [
        "# Description about dataset (Details of the columns) :\n",
        "\n",
        "\n",
        "    HeartDisease : Responders that have ever reported having heart disease (CHD) or myocardial infarction (MI). (Yes / No)\n",
        "    \n",
        "    BMI : Body Mass Index\n",
        "    \n",
        "    Smoking : Responders that have smoked at least 100 ciagrettes in their lives (Yes / No)\n",
        "    \n",
        "    AlcoholDrinking : Adult men having more than 14 drinks per week and adult women having more than 7 drinks per week (Yes / No)\n",
        "    \n",
        "    Stroke : Repsonders that have had a stroke (Yes / No)\n",
        "    \n",
        "    PhysicalHealth : How many days during the last 30 days were the responders' physical health not good? (0-30 days)\n",
        "    \n",
        "    MentalHealth : How many days during the last 30 days was the responders' mental health not good? (0-30 days)\n",
        "    \n",
        "    DiffWalking : Responders have serious difficulty walking or climbing stairs? (Yes / No)\n",
        "    \n",
        "    Sex : Female or Male\n",
        "    \n",
        "    AgeCategory : 13 age groups: '18-24', '25-29','30-34','35-39','40-44','45-49','50-54','55-59','60-64','65-69','70-74','75-79','80 or older'\n",
        "    \n",
        "    Race : 7 race groups: 'White', 'Black', 'Asian', 'American Indian/Alaskan Native','Other', 'Hispanic'\n",
        "    \n",
        "    Diabetic : Responders' status of diabetes: 'Yes','No'','No, borderline diabetes', 'Yes (during pregnancy)'\n",
        "    \n",
        "    PhysicalActivity : Responders that reported doing physical activity or exercise during the last 30 days other than their regular job. (Yes / No)\n",
        "    \n",
        "    GenHealth : Responders' evaluation their own health by 5 categories: 'Poor','Fair','Good','Very good','Excellent'\n",
        "    \n",
        "    SleepTime : On average, how many hours of sleep do the responders get in a 24-hour period\n",
        "    \n",
        "    Asthma : Responders that have had asthma? (Yes / No)\n",
        "    \n",
        "    KidneyDisease : Responders that have had kiney disease except kidney stones, bladder infection, or incontinence (Yes / No)\n",
        "    \n",
        "    SkinCancer : Responders that have had skin cancer? (Yes / No)\n",
        "    \n",
        "###### References : https://www.kaggle.com/code/davos2910/eda-and-prediction-for-heart-disease-auc-0-86"
      ],
      "id": "cb3ccbee"
    },
    {
      "cell_type": "markdown",
      "metadata": {
        "id": "c6d712a9"
      },
      "source": [
        "# Major Findings :\n",
        "\n",
        "### Comparison between Different Classification Algorithms\n",
        "\n",
        "Accuracy using Logistics : 0.9172\n",
        "\n",
        "Accuracy using Decision Tree : 0.9164\n",
        "\n",
        "Accuracy using Linear SVM : 0.9156\n",
        "\n",
        "Accuracy using Random Forest : 0.9051\n",
        "\n",
        "Accuracy using Gaussian Naive Bayes : 0.8388\n",
        "\n",
        "Accuracy using KNN : 0.9010\n",
        "\n",
        "### Comparison between different Optimization Algorithms used through Neural Netowrk : \n",
        "\n",
        "Train Accuracy using Vanilla GD : 0.9140\n",
        "|| Test Accuracy using Vanilla GD : 0.9157\n",
        "|| Slightly Overfit!\n",
        "\n",
        "\n",
        "Train Accuracy using Stochastic GD : 0.9141\n",
        "|| Test Accuracy using Stochastics GD : 0.9148\n",
        "\n",
        "Train Accuracy using MiniBatch ADAM : 0.9158\n",
        "|| Test Accuracy using MiniBatch ADAM : 0.9173\n",
        "\n",
        "Train Accuracy using MiniBatch AdaGrad : 0.9133\n",
        "|| Test Accuracy using MiniBatch AdaGrad : 0.9150\n",
        "\n",
        "Train Accuracy using MiniBatch RMSProp : 0.9174\n",
        "|| Test Accuracy using MiniBatch RMSProp : 0.9174"
      ],
      "id": "c6d712a9"
    },
    {
      "cell_type": "markdown",
      "metadata": {
        "id": "ad341b3e"
      },
      "source": [
        "# Importing necessary libraries"
      ],
      "id": "ad341b3e"
    },
    {
      "cell_type": "code",
      "execution_count": null,
      "metadata": {
        "id": "ab5596c3"
      },
      "outputs": [],
      "source": [
        "# Tools needed\n",
        "import numpy as np \n",
        "import pandas as pd \n",
        "import seaborn as sns\n",
        "import matplotlib.pyplot as plt\n",
        "%matplotlib inline\n",
        "\n",
        "\n",
        "\n",
        "# Models from SkLearn\n",
        "from sklearn import metrics\n",
        "from sklearn.svm import SVC\n",
        "from sklearn import preprocessing\n",
        "from sklearn.naive_bayes import GaussianNB\n",
        "from sklearn.tree import DecisionTreeClassifier\n",
        "from sklearn.neighbors import KNeighborsClassifier\n",
        "from sklearn.ensemble import RandomForestClassifier\n",
        "from sklearn.linear_model import LogisticRegression\n",
        "from sklearn.metrics import confusion_matrix, accuracy_score\n",
        "from sklearn.preprocessing import LabelEncoder, StandardScaler\n",
        "from sklearn.model_selection import train_test_split, cross_val_score\n",
        "\n",
        "\n",
        "#Tensorflow\n",
        "import tensorflow as tf\n",
        "from tensorflow import keras\n",
        "from tensorflow.keras import Model, Sequential, layers \n",
        "from tensorflow.keras.layers import Dense, Dropout, InputLayer\n",
        "\n",
        "from warnings import filterwarnings\n",
        "filterwarnings(action='ignore', category=DeprecationWarning, message='`np.bool` is a deprecated alias')"
      ],
      "id": "ab5596c3"
    },
    {
      "cell_type": "markdown",
      "metadata": {
        "id": "6f0071e0"
      },
      "source": [
        "# Reading the dataset"
      ],
      "id": "6f0071e0"
    },
    {
      "cell_type": "code",
      "execution_count": null,
      "metadata": {
        "colab": {
          "base_uri": "https://localhost:8080/",
          "height": 462
        },
        "id": "0253ca9c",
        "outputId": "c667fe26-b22e-487a-b8a6-44b91b8f6439",
        "scrolled": false
      },
      "outputs": [
        {
          "data": {
            "text/html": [
              "<div>\n",
              "<style scoped>\n",
              "    .dataframe tbody tr th:only-of-type {\n",
              "        vertical-align: middle;\n",
              "    }\n",
              "\n",
              "    .dataframe tbody tr th {\n",
              "        vertical-align: top;\n",
              "    }\n",
              "\n",
              "    .dataframe thead th {\n",
              "        text-align: right;\n",
              "    }\n",
              "</style>\n",
              "<table border=\"1\" class=\"dataframe\">\n",
              "  <thead>\n",
              "    <tr style=\"text-align: right;\">\n",
              "      <th></th>\n",
              "      <th>HeartDisease</th>\n",
              "      <th>BMI</th>\n",
              "      <th>Smoking</th>\n",
              "      <th>AlcoholDrinking</th>\n",
              "      <th>Stroke</th>\n",
              "      <th>PhysicalHealth</th>\n",
              "      <th>MentalHealth</th>\n",
              "      <th>DiffWalking</th>\n",
              "      <th>Gender</th>\n",
              "      <th>AgeCategory</th>\n",
              "      <th>Race</th>\n",
              "      <th>Diabetic</th>\n",
              "      <th>PhysicalActivity</th>\n",
              "      <th>GenHealth</th>\n",
              "      <th>SleepTime</th>\n",
              "      <th>Asthma</th>\n",
              "      <th>KidneyDisease</th>\n",
              "      <th>SkinCancer</th>\n",
              "    </tr>\n",
              "  </thead>\n",
              "  <tbody>\n",
              "    <tr>\n",
              "      <th>0</th>\n",
              "      <td>No</td>\n",
              "      <td>16.60</td>\n",
              "      <td>Yes</td>\n",
              "      <td>No</td>\n",
              "      <td>No</td>\n",
              "      <td>3.0</td>\n",
              "      <td>30.0</td>\n",
              "      <td>No</td>\n",
              "      <td>Female</td>\n",
              "      <td>55-59</td>\n",
              "      <td>White</td>\n",
              "      <td>Yes</td>\n",
              "      <td>Yes</td>\n",
              "      <td>Very good</td>\n",
              "      <td>5.0</td>\n",
              "      <td>Yes</td>\n",
              "      <td>No</td>\n",
              "      <td>Yes</td>\n",
              "    </tr>\n",
              "    <tr>\n",
              "      <th>1</th>\n",
              "      <td>No</td>\n",
              "      <td>20.34</td>\n",
              "      <td>No</td>\n",
              "      <td>No</td>\n",
              "      <td>Yes</td>\n",
              "      <td>0.0</td>\n",
              "      <td>0.0</td>\n",
              "      <td>No</td>\n",
              "      <td>Female</td>\n",
              "      <td>80 or older</td>\n",
              "      <td>White</td>\n",
              "      <td>No</td>\n",
              "      <td>Yes</td>\n",
              "      <td>Very good</td>\n",
              "      <td>7.0</td>\n",
              "      <td>No</td>\n",
              "      <td>No</td>\n",
              "      <td>No</td>\n",
              "    </tr>\n",
              "    <tr>\n",
              "      <th>2</th>\n",
              "      <td>No</td>\n",
              "      <td>26.58</td>\n",
              "      <td>Yes</td>\n",
              "      <td>No</td>\n",
              "      <td>No</td>\n",
              "      <td>20.0</td>\n",
              "      <td>30.0</td>\n",
              "      <td>No</td>\n",
              "      <td>Male</td>\n",
              "      <td>65-69</td>\n",
              "      <td>White</td>\n",
              "      <td>Yes</td>\n",
              "      <td>Yes</td>\n",
              "      <td>Fair</td>\n",
              "      <td>8.0</td>\n",
              "      <td>Yes</td>\n",
              "      <td>No</td>\n",
              "      <td>No</td>\n",
              "    </tr>\n",
              "    <tr>\n",
              "      <th>3</th>\n",
              "      <td>No</td>\n",
              "      <td>24.21</td>\n",
              "      <td>No</td>\n",
              "      <td>No</td>\n",
              "      <td>No</td>\n",
              "      <td>0.0</td>\n",
              "      <td>0.0</td>\n",
              "      <td>No</td>\n",
              "      <td>Female</td>\n",
              "      <td>75-79</td>\n",
              "      <td>White</td>\n",
              "      <td>No</td>\n",
              "      <td>No</td>\n",
              "      <td>Good</td>\n",
              "      <td>6.0</td>\n",
              "      <td>No</td>\n",
              "      <td>No</td>\n",
              "      <td>Yes</td>\n",
              "    </tr>\n",
              "    <tr>\n",
              "      <th>4</th>\n",
              "      <td>No</td>\n",
              "      <td>23.71</td>\n",
              "      <td>No</td>\n",
              "      <td>No</td>\n",
              "      <td>No</td>\n",
              "      <td>28.0</td>\n",
              "      <td>0.0</td>\n",
              "      <td>Yes</td>\n",
              "      <td>Female</td>\n",
              "      <td>40-44</td>\n",
              "      <td>White</td>\n",
              "      <td>No</td>\n",
              "      <td>Yes</td>\n",
              "      <td>Very good</td>\n",
              "      <td>8.0</td>\n",
              "      <td>No</td>\n",
              "      <td>No</td>\n",
              "      <td>No</td>\n",
              "    </tr>\n",
              "    <tr>\n",
              "      <th>5</th>\n",
              "      <td>Yes</td>\n",
              "      <td>28.87</td>\n",
              "      <td>Yes</td>\n",
              "      <td>No</td>\n",
              "      <td>No</td>\n",
              "      <td>6.0</td>\n",
              "      <td>0.0</td>\n",
              "      <td>Yes</td>\n",
              "      <td>Female</td>\n",
              "      <td>75-79</td>\n",
              "      <td>Black</td>\n",
              "      <td>No</td>\n",
              "      <td>No</td>\n",
              "      <td>Fair</td>\n",
              "      <td>12.0</td>\n",
              "      <td>No</td>\n",
              "      <td>No</td>\n",
              "      <td>No</td>\n",
              "    </tr>\n",
              "    <tr>\n",
              "      <th>6</th>\n",
              "      <td>No</td>\n",
              "      <td>21.63</td>\n",
              "      <td>No</td>\n",
              "      <td>No</td>\n",
              "      <td>No</td>\n",
              "      <td>15.0</td>\n",
              "      <td>0.0</td>\n",
              "      <td>No</td>\n",
              "      <td>Female</td>\n",
              "      <td>70-74</td>\n",
              "      <td>White</td>\n",
              "      <td>No</td>\n",
              "      <td>Yes</td>\n",
              "      <td>Fair</td>\n",
              "      <td>4.0</td>\n",
              "      <td>Yes</td>\n",
              "      <td>No</td>\n",
              "      <td>Yes</td>\n",
              "    </tr>\n",
              "    <tr>\n",
              "      <th>7</th>\n",
              "      <td>No</td>\n",
              "      <td>31.64</td>\n",
              "      <td>Yes</td>\n",
              "      <td>No</td>\n",
              "      <td>No</td>\n",
              "      <td>5.0</td>\n",
              "      <td>0.0</td>\n",
              "      <td>Yes</td>\n",
              "      <td>Female</td>\n",
              "      <td>80 or older</td>\n",
              "      <td>White</td>\n",
              "      <td>Yes</td>\n",
              "      <td>No</td>\n",
              "      <td>Good</td>\n",
              "      <td>9.0</td>\n",
              "      <td>Yes</td>\n",
              "      <td>No</td>\n",
              "      <td>No</td>\n",
              "    </tr>\n",
              "    <tr>\n",
              "      <th>8</th>\n",
              "      <td>No</td>\n",
              "      <td>26.45</td>\n",
              "      <td>No</td>\n",
              "      <td>No</td>\n",
              "      <td>No</td>\n",
              "      <td>0.0</td>\n",
              "      <td>0.0</td>\n",
              "      <td>No</td>\n",
              "      <td>Female</td>\n",
              "      <td>80 or older</td>\n",
              "      <td>White</td>\n",
              "      <td>No, borderline diabetes</td>\n",
              "      <td>No</td>\n",
              "      <td>Fair</td>\n",
              "      <td>5.0</td>\n",
              "      <td>No</td>\n",
              "      <td>Yes</td>\n",
              "      <td>No</td>\n",
              "    </tr>\n",
              "    <tr>\n",
              "      <th>9</th>\n",
              "      <td>No</td>\n",
              "      <td>40.69</td>\n",
              "      <td>No</td>\n",
              "      <td>No</td>\n",
              "      <td>No</td>\n",
              "      <td>0.0</td>\n",
              "      <td>0.0</td>\n",
              "      <td>Yes</td>\n",
              "      <td>Male</td>\n",
              "      <td>65-69</td>\n",
              "      <td>White</td>\n",
              "      <td>No</td>\n",
              "      <td>Yes</td>\n",
              "      <td>Good</td>\n",
              "      <td>10.0</td>\n",
              "      <td>No</td>\n",
              "      <td>No</td>\n",
              "      <td>No</td>\n",
              "    </tr>\n",
              "  </tbody>\n",
              "</table>\n",
              "</div>"
            ],
            "text/plain": [
              "  HeartDisease    BMI Smoking AlcoholDrinking Stroke  PhysicalHealth  \\\n",
              "0           No  16.60     Yes              No     No             3.0   \n",
              "1           No  20.34      No              No    Yes             0.0   \n",
              "2           No  26.58     Yes              No     No            20.0   \n",
              "3           No  24.21      No              No     No             0.0   \n",
              "4           No  23.71      No              No     No            28.0   \n",
              "5          Yes  28.87     Yes              No     No             6.0   \n",
              "6           No  21.63      No              No     No            15.0   \n",
              "7           No  31.64     Yes              No     No             5.0   \n",
              "8           No  26.45      No              No     No             0.0   \n",
              "9           No  40.69      No              No     No             0.0   \n",
              "\n",
              "   MentalHealth DiffWalking  Gender  AgeCategory   Race  \\\n",
              "0          30.0          No  Female        55-59  White   \n",
              "1           0.0          No  Female  80 or older  White   \n",
              "2          30.0          No    Male        65-69  White   \n",
              "3           0.0          No  Female        75-79  White   \n",
              "4           0.0         Yes  Female        40-44  White   \n",
              "5           0.0         Yes  Female        75-79  Black   \n",
              "6           0.0          No  Female        70-74  White   \n",
              "7           0.0         Yes  Female  80 or older  White   \n",
              "8           0.0          No  Female  80 or older  White   \n",
              "9           0.0         Yes    Male        65-69  White   \n",
              "\n",
              "                  Diabetic PhysicalActivity  GenHealth  SleepTime Asthma  \\\n",
              "0                      Yes              Yes  Very good        5.0    Yes   \n",
              "1                       No              Yes  Very good        7.0     No   \n",
              "2                      Yes              Yes       Fair        8.0    Yes   \n",
              "3                       No               No       Good        6.0     No   \n",
              "4                       No              Yes  Very good        8.0     No   \n",
              "5                       No               No       Fair       12.0     No   \n",
              "6                       No              Yes       Fair        4.0    Yes   \n",
              "7                      Yes               No       Good        9.0    Yes   \n",
              "8  No, borderline diabetes               No       Fair        5.0     No   \n",
              "9                       No              Yes       Good       10.0     No   \n",
              "\n",
              "  KidneyDisease SkinCancer  \n",
              "0            No        Yes  \n",
              "1            No         No  \n",
              "2            No         No  \n",
              "3            No        Yes  \n",
              "4            No         No  \n",
              "5            No         No  \n",
              "6            No        Yes  \n",
              "7            No         No  \n",
              "8           Yes         No  \n",
              "9            No         No  "
            ]
          },
          "execution_count": 256,
          "metadata": {},
          "output_type": "execute_result"
        }
      ],
      "source": [
        "data = pd.read_csv('heart.csv'); data.rename(columns = {'Sex':'Gender'}, inplace = True); data.head(n=10)"
      ],
      "id": "0253ca9c"
    },
    {
      "cell_type": "markdown",
      "metadata": {
        "id": "dfb45714"
      },
      "source": [
        "# Checking of existence of NA Values"
      ],
      "id": "dfb45714"
    },
    {
      "cell_type": "code",
      "execution_count": null,
      "metadata": {
        "colab": {
          "base_uri": "https://localhost:8080/"
        },
        "id": "c1bb4d74",
        "outputId": "cf2d542f-9cd3-44f3-a232-83f5e6d080be",
        "scrolled": true
      },
      "outputs": [
        {
          "data": {
            "text/plain": [
              "HeartDisease        0\n",
              "BMI                 0\n",
              "Smoking             0\n",
              "AlcoholDrinking     0\n",
              "Stroke              0\n",
              "PhysicalHealth      0\n",
              "MentalHealth        0\n",
              "DiffWalking         0\n",
              "Gender              0\n",
              "AgeCategory         0\n",
              "Race                0\n",
              "Diabetic            0\n",
              "PhysicalActivity    0\n",
              "GenHealth           0\n",
              "SleepTime           0\n",
              "Asthma              0\n",
              "KidneyDisease       0\n",
              "SkinCancer          0\n",
              "dtype: int64"
            ]
          },
          "execution_count": 257,
          "metadata": {},
          "output_type": "execute_result"
        }
      ],
      "source": [
        "data.isna().sum()"
      ],
      "id": "c1bb4d74"
    },
    {
      "cell_type": "markdown",
      "metadata": {
        "id": "dPaH_zhLXd0M"
      },
      "source": [
        "##### Observations : The whole dataset contains No NA values"
      ],
      "id": "dPaH_zhLXd0M"
    },
    {
      "cell_type": "markdown",
      "metadata": {
        "id": "1a9d19bc"
      },
      "source": [
        "# Info about data and datatype of all the column"
      ],
      "id": "1a9d19bc"
    },
    {
      "cell_type": "code",
      "execution_count": null,
      "metadata": {
        "colab": {
          "base_uri": "https://localhost:8080/"
        },
        "id": "56cb1453",
        "outputId": "3b91b134-511a-42cf-c083-066ccd27e8a0",
        "scrolled": true
      },
      "outputs": [
        {
          "name": "stdout",
          "output_type": "stream",
          "text": [
            "<class 'pandas.core.frame.DataFrame'>\n",
            "RangeIndex: 319795 entries, 0 to 319794\n",
            "Data columns (total 18 columns):\n",
            " #   Column            Non-Null Count   Dtype  \n",
            "---  ------            --------------   -----  \n",
            " 0   HeartDisease      319795 non-null  object \n",
            " 1   BMI               319795 non-null  float64\n",
            " 2   Smoking           319795 non-null  object \n",
            " 3   AlcoholDrinking   319795 non-null  object \n",
            " 4   Stroke            319795 non-null  object \n",
            " 5   PhysicalHealth    319795 non-null  float64\n",
            " 6   MentalHealth      319795 non-null  float64\n",
            " 7   DiffWalking       319795 non-null  object \n",
            " 8   Gender            319795 non-null  object \n",
            " 9   AgeCategory       319795 non-null  object \n",
            " 10  Race              319795 non-null  object \n",
            " 11  Diabetic          319795 non-null  object \n",
            " 12  PhysicalActivity  319795 non-null  object \n",
            " 13  GenHealth         319795 non-null  object \n",
            " 14  SleepTime         319795 non-null  float64\n",
            " 15  Asthma            319795 non-null  object \n",
            " 16  KidneyDisease     319795 non-null  object \n",
            " 17  SkinCancer        319795 non-null  object \n",
            "dtypes: float64(4), object(14)\n",
            "memory usage: 43.9+ MB\n"
          ]
        }
      ],
      "source": [
        "data.info()"
      ],
      "id": "56cb1453"
    },
    {
      "cell_type": "markdown",
      "metadata": {
        "id": "Rcw23IFh118z"
      },
      "source": [
        "##### Observations : We have to convert all the object column to numerical column to further work on it"
      ],
      "id": "Rcw23IFh118z"
    },
    {
      "cell_type": "markdown",
      "metadata": {
        "id": "a591fbad"
      },
      "source": [
        "# Checking number of unique values of every column"
      ],
      "id": "a591fbad"
    },
    {
      "cell_type": "code",
      "execution_count": null,
      "metadata": {
        "colab": {
          "base_uri": "https://localhost:8080/"
        },
        "id": "85ce364f",
        "outputId": "ab78ebd7-7d91-45e0-aeea-1c11547c3992",
        "scrolled": true
      },
      "outputs": [
        {
          "data": {
            "text/plain": [
              "HeartDisease           2\n",
              "BMI                 3604\n",
              "Smoking                2\n",
              "AlcoholDrinking        2\n",
              "Stroke                 2\n",
              "PhysicalHealth        31\n",
              "MentalHealth          31\n",
              "DiffWalking            2\n",
              "Gender                 2\n",
              "AgeCategory           13\n",
              "Race                   6\n",
              "Diabetic               4\n",
              "PhysicalActivity       2\n",
              "GenHealth              5\n",
              "SleepTime             24\n",
              "Asthma                 2\n",
              "KidneyDisease          2\n",
              "SkinCancer             2\n",
              "dtype: int64"
            ]
          },
          "execution_count": 259,
          "metadata": {},
          "output_type": "execute_result"
        }
      ],
      "source": [
        "data.nunique()"
      ],
      "id": "85ce364f"
    },
    {
      "cell_type": "markdown",
      "metadata": {
        "id": "bzGWS7OW5fhL"
      },
      "source": [
        "##### Observations : \n",
        "                      Looking at the number of unique values, we can decide that BMI, PhysicalHealth, MentalHealth, SleepTime are conitunous columns and rest are categorical. \n",
        "                      AgeCategory shouldn't be categorical, so I will apply a function to calculate the mean age and make it a continuous feature "
      ],
      "id": "bzGWS7OW5fhL"
    },
    {
      "cell_type": "markdown",
      "metadata": {
        "id": "XRqHlbG670ne"
      },
      "source": [
        "# Converting AgeCategory to continuous column by replacing with mean"
      ],
      "id": "XRqHlbG670ne"
    },
    {
      "cell_type": "code",
      "execution_count": null,
      "metadata": {
        "id": "bALI2csJ5d-w"
      },
      "outputs": [],
      "source": [
        "data.AgeCategory.replace(['55-59', '80 or older', '65-69', '75-79', '40-44', '70-74',\n",
        "       '60-64', '50-54', '45-49', '18-24', '35-39', '30-34', '25-29'], [57, 80, 67, 77, 42, 72, 62, 52, 47, 20, 37, 32, 27], inplace=True)"
      ],
      "id": "bALI2csJ5d-w"
    },
    {
      "cell_type": "markdown",
      "metadata": {
        "id": "zJawBAseil5U"
      },
      "source": [
        "##### Observations : \n",
        "    Finally, we can say :\n",
        "    \n",
        "    Categorical Features: HeartDisease, Smoking, AlcoholDrinking, Stroke, DiffWalking, Sex, Race, Diabetic,PhysicalActivity, GenHealth, Asthma, KidneyDisease, SkinCancer \n",
        "    \n",
        "    Continuous Features: BMI, PhysicalHealth, MentalHealth, AgeCategory, SleepTime"
      ],
      "id": "zJawBAseil5U"
    },
    {
      "cell_type": "markdown",
      "metadata": {
        "id": "v5Vg8i81il5V"
      },
      "source": [
        "# Checking the Unique Values of every column"
      ],
      "id": "v5Vg8i81il5V"
    },
    {
      "cell_type": "code",
      "execution_count": null,
      "metadata": {
        "id": "Z6XSbwAuil5V",
        "outputId": "f3ee7737-1d95-490d-ae9d-81ef726c5548"
      },
      "outputs": [
        {
          "data": {
            "text/plain": [
              "HeartDisease                                                [No, Yes]\n",
              "BMI                 [16.6, 20.34, 26.58, 24.21, 23.71, 28.87, 21.6...\n",
              "Smoking                                                     [Yes, No]\n",
              "AlcoholDrinking                                             [No, Yes]\n",
              "Stroke                                                      [No, Yes]\n",
              "PhysicalHealth      [3.0, 0.0, 20.0, 28.0, 6.0, 15.0, 5.0, 30.0, 7...\n",
              "MentalHealth        [30.0, 0.0, 2.0, 5.0, 15.0, 8.0, 4.0, 3.0, 10....\n",
              "DiffWalking                                                 [No, Yes]\n",
              "Gender                                                 [Female, Male]\n",
              "AgeCategory         [57, 80, 67, 77, 42, 72, 62, 52, 47, 20, 37, 3...\n",
              "Race                [White, Black, Asian, American Indian/Alaskan ...\n",
              "Diabetic            [Yes, No, No, borderline diabetes, Yes (during...\n",
              "PhysicalActivity                                            [Yes, No]\n",
              "GenHealth                    [Very good, Fair, Good, Poor, Excellent]\n",
              "SleepTime           [5.0, 7.0, 8.0, 6.0, 12.0, 4.0, 9.0, 10.0, 15....\n",
              "Asthma                                                      [Yes, No]\n",
              "KidneyDisease                                               [No, Yes]\n",
              "SkinCancer                                                  [Yes, No]\n",
              "dtype: object"
            ]
          },
          "execution_count": 261,
          "metadata": {},
          "output_type": "execute_result"
        }
      ],
      "source": [
        "pd.Series({col:data[col].unique() for col in data})"
      ],
      "id": "Z6XSbwAuil5V"
    },
    {
      "cell_type": "markdown",
      "metadata": {
        "id": "CEZjL9s-il5W"
      },
      "source": [
        "##### Observations : The categorical variables which have more than two category, we have to convert them to binary category. Such as Race, Diabetic, GenHealth"
      ],
      "id": "CEZjL9s-il5W"
    },
    {
      "cell_type": "markdown",
      "metadata": {
        "id": "vkxh1uK4il5W"
      },
      "source": [
        "# Pie plot of Binary Categorical Features"
      ],
      "id": "vkxh1uK4il5W"
    },
    {
      "cell_type": "code",
      "execution_count": null,
      "metadata": {
        "id": "rHh73AfUil5W",
        "outputId": "6d01e972-b321-4c22-e8f8-143aa31f78a9"
      },
      "outputs": [
        {
          "data": {
            "image/png": "[encoded data removed]",
            "text/plain": [
              "<Figure size 1800x1440 with 10 Axes>"
            ]
          },
          "metadata": {},
          "output_type": "display_data"
        }
      ],
      "source": [
        "fig, axes = plt.subplots(5,2)\n",
        "\n",
        "a1 = data['HeartDisease'].value_counts().plot.pie(autopct = '%1.1f%%', ax = axes[0][0])\n",
        "a1.set_title('HeartDisease Distribution') \n",
        "\n",
        "a2 = data['Smoking'].value_counts().plot.pie(autopct = '%1.1f%%',ax = axes[0][1])\n",
        "a2.set_title('Smoking Distribution') \n",
        "\n",
        "a3 = data['AlcoholDrinking'].value_counts().plot.pie(autopct = '%1.1f%%', ax = axes[1][0])\n",
        "a3.set_title('AlcholDrinking Distribution') \n",
        "\n",
        "a4 = data['Stroke'].value_counts().plot.pie(autopct = '%1.1f%%', ax = axes[1][1])\n",
        "a4.set_title('Stroke Distribution') \n",
        "\n",
        "a5 = data['DiffWalking'].value_counts().plot.pie(autopct = '%1.1f%%', ax = axes[2][0])\n",
        "a5.set_title('DiffWalking Distribution') \n",
        "\n",
        "a6 = data['Gender'].value_counts().plot.pie(autopct = '%1.1f%%', ax = axes[2][1])\n",
        "a6.set_title('Gender Distribution') \n",
        "\n",
        "a7 = data['PhysicalActivity'].value_counts().plot.pie(autopct = '%1.1f%%', ax = axes[3][0])\n",
        "a7.set_title('Physical Activities Distribution') \n",
        "\n",
        "a8 = data['Asthma'].value_counts().plot.pie(autopct = '%1.1f%%', ax = axes[3][1])\n",
        "a8.set_title('Asthma Distribution') \n",
        "\n",
        "a9 = data['KidneyDisease'].value_counts().plot.pie(autopct = '%1.1f%%', ax = axes[4][0])\n",
        "a9.set_title('KidneyDisease Distribution') \n",
        "\n",
        "a10 = data['SkinCancer'].value_counts().plot.pie(autopct = '%1.1f%%', ax = axes[4][1])\n",
        "a10.set_title('SkinCancer Distribution') \n",
        "\n",
        "fig.set_size_inches(25,20)\n",
        "plt.tight_layout()\n",
        "\n",
        "plt.show()"
      ],
      "id": "rHh73AfUil5W"
    },
    {
      "cell_type": "markdown",
      "metadata": {
        "id": "YYZlbhFEil5X"
      },
      "source": [
        "##### Observations : Other than Smoking and Gender, every other feature has skewed distribution!"
      ],
      "id": "YYZlbhFEil5X"
    },
    {
      "cell_type": "markdown",
      "metadata": {
        "id": "KJzNzyT1il5X"
      },
      "source": [
        "# Barplot of multi-categorical features"
      ],
      "id": "KJzNzyT1il5X"
    },
    {
      "cell_type": "code",
      "execution_count": null,
      "metadata": {
        "id": "eDk2wPnjil5X",
        "outputId": "eb7342ec-4224-472a-d650-2ecee62cc439"
      },
      "outputs": [
        {
          "data": {
            "image/png": "[encoded data removed]",
            "text/plain": [
              "<Figure size 1080x720 with 3 Axes>"
            ]
          },
          "metadata": {
            "needs_background": "light"
          },
          "output_type": "display_data"
        }
      ],
      "source": [
        "fig, axes = plt.subplots(1,3)\n",
        "\n",
        "a1 = sns.countplot(y = data['GenHealth'], linewidth = 1.2, ax = axes[0])\n",
        "a1.set_title('General Health')\n",
        "a1.set_xlabel('Count')\n",
        "\n",
        "a2 = sns.countplot(y = data['Race'], linewidth = 1.2, ax = axes[1])\n",
        "a2.set_title('Race')\n",
        "a2.set_xlabel('Count')\n",
        "\n",
        "a3 = sns.countplot(y = data['Diabetic'], linewidth = 1.2, ax = axes[2])\n",
        "a3.set_title('Diabetic')\n",
        "a3.set_xlabel('Count')\n",
        "\n",
        "fig.set_size_inches(15,10)\n",
        "plt.tight_layout()"
      ],
      "id": "eDk2wPnjil5X"
    },
    {
      "cell_type": "markdown",
      "metadata": {
        "id": "T9nWRmgUil5Y"
      },
      "source": [
        "##### Observations : All the three features have more or less skewed distribution"
      ],
      "id": "T9nWRmgUil5Y"
    },
    {
      "cell_type": "markdown",
      "metadata": {
        "id": "xaESgZpnil5Y"
      },
      "source": [
        "# Converting Diabetic columns from multicategory to binary category"
      ],
      "id": "xaESgZpnil5Y"
    },
    {
      "cell_type": "code",
      "execution_count": null,
      "metadata": {
        "id": "urCISfIdil5Z",
        "outputId": "d3563146-171b-4b82-c3b6-8e1f1752bea6"
      },
      "outputs": [
        {
          "data": {
            "text/plain": [
              "array(['Yes', 'No', 'No, borderline diabetes', 'Yes (during pregnancy)'],\n",
              "      dtype=object)"
            ]
          },
          "execution_count": 264,
          "metadata": {},
          "output_type": "execute_result"
        }
      ],
      "source": [
        "data['Diabetic'].unique()"
      ],
      "id": "urCISfIdil5Z"
    },
    {
      "cell_type": "code",
      "execution_count": null,
      "metadata": {
        "id": "9UFQxMniil5Z"
      },
      "outputs": [],
      "source": [
        "data.Diabetic.replace(['Yes', 'No', 'No, borderline diabetes', 'Yes (during pregnancy)'], ['Yes', 'No', 'No', 'Yes'], inplace=True)"
      ],
      "id": "9UFQxMniil5Z"
    },
    {
      "cell_type": "markdown",
      "metadata": {
        "id": "-UMXJcNXil5Z"
      },
      "source": [
        "# Converting GenHealth columns from multicategory to binary category"
      ],
      "id": "-UMXJcNXil5Z"
    },
    {
      "cell_type": "code",
      "execution_count": null,
      "metadata": {
        "scrolled": true,
        "id": "DN-onBuUil5a",
        "outputId": "a0899201-1df2-4de1-8811-0a9c1e906b49"
      },
      "outputs": [
        {
          "data": {
            "text/plain": [
              "array(['Very good', 'Fair', 'Good', 'Poor', 'Excellent'], dtype=object)"
            ]
          },
          "execution_count": 266,
          "metadata": {},
          "output_type": "execute_result"
        }
      ],
      "source": [
        "data['GenHealth'].unique()"
      ],
      "id": "DN-onBuUil5a"
    },
    {
      "cell_type": "code",
      "execution_count": null,
      "metadata": {
        "id": "UYFn5P8Oil5a"
      },
      "outputs": [],
      "source": [
        "data.GenHealth.replace(['Very good', 'Fair', 'Good', 'Poor', 'Excellent'], ['Good', 'Bad', 'Good', 'Bad', 'Good'], inplace=True)"
      ],
      "id": "UYFn5P8Oil5a"
    },
    {
      "cell_type": "markdown",
      "metadata": {
        "id": "HVl1qLssil5b"
      },
      "source": [
        "# Converting Race columns from multicategory to binary category"
      ],
      "id": "HVl1qLssil5b"
    },
    {
      "cell_type": "code",
      "execution_count": null,
      "metadata": {
        "id": "roudicnCil5c",
        "outputId": "2475ff4b-3d6c-4b1e-9f71-67b449dfad84"
      },
      "outputs": [
        {
          "data": {
            "text/plain": [
              "array(['White', 'Black', 'Asian', 'American Indian/Alaskan Native',\n",
              "       'Other', 'Hispanic'], dtype=object)"
            ]
          },
          "execution_count": 268,
          "metadata": {},
          "output_type": "execute_result"
        }
      ],
      "source": [
        "data['Race'].unique()"
      ],
      "id": "roudicnCil5c"
    },
    {
      "cell_type": "code",
      "execution_count": null,
      "metadata": {
        "id": "oegZsnrwil5c"
      },
      "outputs": [],
      "source": [
        "data.Race.replace(['White', 'Black', 'Asian', 'American Indian/Alaskan Native',\n",
        "       'Other', 'Hispanic'], ['White', 'Non-White', 'Non-White', 'Non-White', 'Non-White', 'Non-White'], inplace=True)"
      ],
      "id": "oegZsnrwil5c"
    },
    {
      "cell_type": "markdown",
      "metadata": {
        "id": "s02bJN3vil5c"
      },
      "source": [
        "# Checking the distribution after converting GenHealth, Race & Diabetic to binary features"
      ],
      "id": "s02bJN3vil5c"
    },
    {
      "cell_type": "code",
      "execution_count": null,
      "metadata": {
        "id": "j5VWiuBZil5d",
        "outputId": "12e5d966-caee-4e31-9246-43eddb313fbb"
      },
      "outputs": [
        {
          "data": {
            "image/png": "[encoded data removed]",
            "text/plain": [
              "<Figure size 1080x720 with 3 Axes>"
            ]
          },
          "metadata": {
            "needs_background": "light"
          },
          "output_type": "display_data"
        }
      ],
      "source": [
        "fig, axes = plt.subplots(1,3)\n",
        "\n",
        "a1 = sns.countplot(y = data['GenHealth'], linewidth = 1.2, ax = axes[0])\n",
        "a1.set_title('General Health')\n",
        "a1.set_xlabel('Count')\n",
        "\n",
        "a2 = sns.countplot(y = data['Race'], linewidth = 1.2, ax = axes[1])\n",
        "a2.set_title('Race')\n",
        "a2.set_xlabel('Count')\n",
        "\n",
        "a3 = sns.countplot(y = data['Diabetic'], linewidth = 1.2, ax = axes[2])\n",
        "a3.set_title('Diabetic')\n",
        "a3.set_xlabel('Count')\n",
        "\n",
        "fig.set_size_inches(15,10)\n",
        "plt.tight_layout()"
      ],
      "id": "j5VWiuBZil5d"
    },
    {
      "cell_type": "markdown",
      "metadata": {
        "id": "0CaO5l5iil5d"
      },
      "source": [
        "##### Observations : All the three fetures have skewed distribution"
      ],
      "id": "0CaO5l5iil5d"
    },
    {
      "cell_type": "markdown",
      "metadata": {
        "id": "b2UbgO6pil5d"
      },
      "source": [
        "# Checking the Unique Values of every column"
      ],
      "id": "b2UbgO6pil5d"
    },
    {
      "cell_type": "code",
      "execution_count": null,
      "metadata": {
        "id": "KpP7qX0pil5e",
        "outputId": "62d8b49e-62c3-44b8-f594-bda70f8f8bc5"
      },
      "outputs": [
        {
          "data": {
            "text/plain": [
              "HeartDisease                                                [No, Yes]\n",
              "BMI                 [16.6, 20.34, 26.58, 24.21, 23.71, 28.87, 21.6...\n",
              "Smoking                                                     [Yes, No]\n",
              "AlcoholDrinking                                             [No, Yes]\n",
              "Stroke                                                      [No, Yes]\n",
              "PhysicalHealth      [3.0, 0.0, 20.0, 28.0, 6.0, 15.0, 5.0, 30.0, 7...\n",
              "MentalHealth        [30.0, 0.0, 2.0, 5.0, 15.0, 8.0, 4.0, 3.0, 10....\n",
              "DiffWalking                                                 [No, Yes]\n",
              "Gender                                                 [Female, Male]\n",
              "AgeCategory         [57, 80, 67, 77, 42, 72, 62, 52, 47, 20, 37, 3...\n",
              "Race                                               [White, Non-White]\n",
              "Diabetic                                                    [Yes, No]\n",
              "PhysicalActivity                                            [Yes, No]\n",
              "GenHealth                                                 [Good, Bad]\n",
              "SleepTime           [5.0, 7.0, 8.0, 6.0, 12.0, 4.0, 9.0, 10.0, 15....\n",
              "Asthma                                                      [Yes, No]\n",
              "KidneyDisease                                               [No, Yes]\n",
              "SkinCancer                                                  [Yes, No]\n",
              "dtype: object"
            ]
          },
          "execution_count": 271,
          "metadata": {},
          "output_type": "execute_result"
        }
      ],
      "source": [
        "pd.Series({col:data[col].unique() for col in data})"
      ],
      "id": "KpP7qX0pil5e"
    },
    {
      "cell_type": "markdown",
      "metadata": {
        "id": "ec6xGDBdil5e"
      },
      "source": [
        "# Checking number of binary categorical columns now!"
      ],
      "id": "ec6xGDBdil5e"
    },
    {
      "cell_type": "code",
      "execution_count": null,
      "metadata": {
        "id": "JCXMSqKyil5e",
        "outputId": "3e90bb90-3227-4b95-8c0a-f515a5ca45cd"
      },
      "outputs": [
        {
          "data": {
            "text/plain": [
              "HeartDisease           2\n",
              "BMI                 3604\n",
              "Smoking                2\n",
              "AlcoholDrinking        2\n",
              "Stroke                 2\n",
              "PhysicalHealth        31\n",
              "MentalHealth          31\n",
              "DiffWalking            2\n",
              "Gender                 2\n",
              "AgeCategory           13\n",
              "Race                   2\n",
              "Diabetic               2\n",
              "PhysicalActivity       2\n",
              "GenHealth              2\n",
              "SleepTime             24\n",
              "Asthma                 2\n",
              "KidneyDisease          2\n",
              "SkinCancer             2\n",
              "dtype: int64"
            ]
          },
          "execution_count": 272,
          "metadata": {},
          "output_type": "execute_result"
        }
      ],
      "source": [
        "data.nunique()"
      ],
      "id": "JCXMSqKyil5e"
    },
    {
      "cell_type": "markdown",
      "metadata": {
        "id": "nD9uH5H_il5e"
      },
      "source": [
        "##### Observations : All the categorical columns are of now Binary Category"
      ],
      "id": "nD9uH5H_il5e"
    },
    {
      "cell_type": "markdown",
      "metadata": {
        "id": "d1a92202"
      },
      "source": [
        "## Relation of different categorical features with HeartDisease"
      ],
      "id": "d1a92202"
    },
    {
      "cell_type": "code",
      "execution_count": null,
      "metadata": {
        "id": "8cYMRPaAHYSo"
      },
      "outputs": [],
      "source": [
        "cat_columns = ['Smoking', 'AlcoholDrinking', 'Stroke', 'AgeCategory', 'Gender','Race', 'Diabetic', 'PhysicalActivity','GenHealth', 'Asthma', 'KidneyDisease', 'SkinCancer']"
      ],
      "id": "8cYMRPaAHYSo"
    },
    {
      "cell_type": "code",
      "execution_count": null,
      "metadata": {
        "colab": {
          "base_uri": "https://localhost:8080/",
          "height": 1000
        },
        "id": "rHCI2itAHbaS",
        "outputId": "a7495b3c-d8ae-4335-b20c-7f7938c81f30"
      },
      "outputs": [
        {
          "data": {
            "image/png": "[encoded data removed]",
            "text/plain": [
              "<Figure size 1440x1800 with 12 Axes>"
            ]
          },
          "metadata": {
            "needs_background": "light"
          },
          "output_type": "display_data"
        }
      ],
      "source": [
        "i = 1\n",
        "plt.figure(figsize = (20,25))\n",
        "for feature in cat_columns:\n",
        "    plt.subplot(6,2,i)\n",
        "    sns.countplot(x = feature, hue = 'HeartDisease', data = data)\n",
        "    i = i + 1"
      ],
      "id": "rHCI2itAHbaS"
    },
    {
      "cell_type": "markdown",
      "metadata": {
        "id": "YO64gpoYil5h"
      },
      "source": [
        "##### References : https://www.kaggle.com/code/georgyzubkov/heart-eda-and-ml"
      ],
      "id": "YO64gpoYil5h"
    },
    {
      "cell_type": "markdown",
      "metadata": {
        "id": "A5yLRIyNil5h"
      },
      "source": [
        "##### Observations : \n",
        "\n",
        "    With respective to Gender : \n",
        "    More Females were tested than males\n",
        "    Males are more likely to have heart disease than females\n",
        "    \n",
        "    With respective to Smoking :\n",
        "    Most heart disease patients smoke.\n",
        "    People who smoke are approximately twice as likely to have heart disease than people who don't smoke.\n",
        "    \n",
        "    With Respective to Race :\n",
        "    White People are more likely to have heart disease\n",
        "    \n",
        "    With Respective to AgeCategory :\n",
        "    We can see that people who are 80 or older are more likely to get HeartDiseases."
      ],
      "id": "A5yLRIyNil5h"
    },
    {
      "cell_type": "markdown",
      "metadata": {
        "id": "1d3195e6"
      },
      "source": [
        "## Label encoding of categorical columns in the dataset"
      ],
      "id": "1d3195e6"
    },
    {
      "cell_type": "markdown",
      "metadata": {
        "id": "37b309b3"
      },
      "source": [
        "### lising of categorical variables which we want to encode"
      ],
      "id": "37b309b3"
    },
    {
      "cell_type": "code",
      "execution_count": null,
      "metadata": {
        "id": "716d5043"
      },
      "outputs": [],
      "source": [
        "list1 = ['HeartDisease', 'Smoking', 'AlcoholDrinking', 'Stroke', 'DiffWalking', 'Race', 'Gender', 'Diabetic', 'PhysicalActivity', 'GenHealth', 'Asthma', 'KidneyDisease', 'SkinCancer']"
      ],
      "id": "716d5043"
    },
    {
      "cell_type": "markdown",
      "metadata": {
        "id": "5d8dd7ae"
      },
      "source": [
        "### definig a function for label encoding the listed categorical column"
      ],
      "id": "5d8dd7ae"
    },
    {
      "cell_type": "code",
      "execution_count": null,
      "metadata": {
        "colab": {
          "base_uri": "https://localhost:8080/",
          "height": 270
        },
        "id": "aab332ad",
        "outputId": "a50f6e66-f7b1-4c7c-9fd1-336c3843f639"
      },
      "outputs": [
        {
          "data": {
            "text/html": [
              "<div>\n",
              "<style scoped>\n",
              "    .dataframe tbody tr th:only-of-type {\n",
              "        vertical-align: middle;\n",
              "    }\n",
              "\n",
              "    .dataframe tbody tr th {\n",
              "        vertical-align: top;\n",
              "    }\n",
              "\n",
              "    .dataframe thead th {\n",
              "        text-align: right;\n",
              "    }\n",
              "</style>\n",
              "<table border=\"1\" class=\"dataframe\">\n",
              "  <thead>\n",
              "    <tr style=\"text-align: right;\">\n",
              "      <th></th>\n",
              "      <th>HeartDisease</th>\n",
              "      <th>BMI</th>\n",
              "      <th>Smoking</th>\n",
              "      <th>AlcoholDrinking</th>\n",
              "      <th>Stroke</th>\n",
              "      <th>PhysicalHealth</th>\n",
              "      <th>MentalHealth</th>\n",
              "      <th>DiffWalking</th>\n",
              "      <th>Gender</th>\n",
              "      <th>AgeCategory</th>\n",
              "      <th>Race</th>\n",
              "      <th>Diabetic</th>\n",
              "      <th>PhysicalActivity</th>\n",
              "      <th>GenHealth</th>\n",
              "      <th>SleepTime</th>\n",
              "      <th>Asthma</th>\n",
              "      <th>KidneyDisease</th>\n",
              "      <th>SkinCancer</th>\n",
              "    </tr>\n",
              "  </thead>\n",
              "  <tbody>\n",
              "    <tr>\n",
              "      <th>0</th>\n",
              "      <td>0</td>\n",
              "      <td>16.60</td>\n",
              "      <td>1</td>\n",
              "      <td>0</td>\n",
              "      <td>0</td>\n",
              "      <td>3.0</td>\n",
              "      <td>30.0</td>\n",
              "      <td>0</td>\n",
              "      <td>0</td>\n",
              "      <td>57</td>\n",
              "      <td>1</td>\n",
              "      <td>1</td>\n",
              "      <td>1</td>\n",
              "      <td>1</td>\n",
              "      <td>5.0</td>\n",
              "      <td>1</td>\n",
              "      <td>0</td>\n",
              "      <td>1</td>\n",
              "    </tr>\n",
              "    <tr>\n",
              "      <th>1</th>\n",
              "      <td>0</td>\n",
              "      <td>20.34</td>\n",
              "      <td>0</td>\n",
              "      <td>0</td>\n",
              "      <td>1</td>\n",
              "      <td>0.0</td>\n",
              "      <td>0.0</td>\n",
              "      <td>0</td>\n",
              "      <td>0</td>\n",
              "      <td>80</td>\n",
              "      <td>1</td>\n",
              "      <td>0</td>\n",
              "      <td>1</td>\n",
              "      <td>1</td>\n",
              "      <td>7.0</td>\n",
              "      <td>0</td>\n",
              "      <td>0</td>\n",
              "      <td>0</td>\n",
              "    </tr>\n",
              "    <tr>\n",
              "      <th>2</th>\n",
              "      <td>0</td>\n",
              "      <td>26.58</td>\n",
              "      <td>1</td>\n",
              "      <td>0</td>\n",
              "      <td>0</td>\n",
              "      <td>20.0</td>\n",
              "      <td>30.0</td>\n",
              "      <td>0</td>\n",
              "      <td>1</td>\n",
              "      <td>67</td>\n",
              "      <td>1</td>\n",
              "      <td>1</td>\n",
              "      <td>1</td>\n",
              "      <td>0</td>\n",
              "      <td>8.0</td>\n",
              "      <td>1</td>\n",
              "      <td>0</td>\n",
              "      <td>0</td>\n",
              "    </tr>\n",
              "    <tr>\n",
              "      <th>3</th>\n",
              "      <td>0</td>\n",
              "      <td>24.21</td>\n",
              "      <td>0</td>\n",
              "      <td>0</td>\n",
              "      <td>0</td>\n",
              "      <td>0.0</td>\n",
              "      <td>0.0</td>\n",
              "      <td>0</td>\n",
              "      <td>0</td>\n",
              "      <td>77</td>\n",
              "      <td>1</td>\n",
              "      <td>0</td>\n",
              "      <td>0</td>\n",
              "      <td>1</td>\n",
              "      <td>6.0</td>\n",
              "      <td>0</td>\n",
              "      <td>0</td>\n",
              "      <td>1</td>\n",
              "    </tr>\n",
              "    <tr>\n",
              "      <th>4</th>\n",
              "      <td>0</td>\n",
              "      <td>23.71</td>\n",
              "      <td>0</td>\n",
              "      <td>0</td>\n",
              "      <td>0</td>\n",
              "      <td>28.0</td>\n",
              "      <td>0.0</td>\n",
              "      <td>1</td>\n",
              "      <td>0</td>\n",
              "      <td>42</td>\n",
              "      <td>1</td>\n",
              "      <td>0</td>\n",
              "      <td>1</td>\n",
              "      <td>1</td>\n",
              "      <td>8.0</td>\n",
              "      <td>0</td>\n",
              "      <td>0</td>\n",
              "      <td>0</td>\n",
              "    </tr>\n",
              "  </tbody>\n",
              "</table>\n",
              "</div>"
            ],
            "text/plain": [
              "   HeartDisease    BMI  Smoking  AlcoholDrinking  Stroke  PhysicalHealth  \\\n",
              "0             0  16.60        1                0       0             3.0   \n",
              "1             0  20.34        0                0       1             0.0   \n",
              "2             0  26.58        1                0       0            20.0   \n",
              "3             0  24.21        0                0       0             0.0   \n",
              "4             0  23.71        0                0       0            28.0   \n",
              "\n",
              "   MentalHealth  DiffWalking  Gender  AgeCategory  Race  Diabetic  \\\n",
              "0          30.0            0       0           57     1         1   \n",
              "1           0.0            0       0           80     1         0   \n",
              "2          30.0            0       1           67     1         1   \n",
              "3           0.0            0       0           77     1         0   \n",
              "4           0.0            1       0           42     1         0   \n",
              "\n",
              "   PhysicalActivity  GenHealth  SleepTime  Asthma  KidneyDisease  SkinCancer  \n",
              "0                 1          1        5.0       1              0           1  \n",
              "1                 1          1        7.0       0              0           0  \n",
              "2                 1          0        8.0       1              0           0  \n",
              "3                 0          1        6.0       0              0           1  \n",
              "4                 1          1        8.0       0              0           0  "
            ]
          },
          "execution_count": 276,
          "metadata": {},
          "output_type": "execute_result"
        }
      ],
      "source": [
        "label_encoder = preprocessing.LabelEncoder()\n",
        "for i in range(len(list1)):\n",
        "    data[list1[i]] = label_encoder.fit_transform(data[list1[i]])\n",
        "data.head()"
      ],
      "id": "aab332ad"
    },
    {
      "cell_type": "markdown",
      "metadata": {
        "id": "a6d91083"
      },
      "source": [
        "# checking datatypes after label encoding"
      ],
      "id": "a6d91083"
    },
    {
      "cell_type": "code",
      "execution_count": null,
      "metadata": {
        "colab": {
          "base_uri": "https://localhost:8080/"
        },
        "id": "8e090280",
        "outputId": "d2add328-398e-4872-aba4-b4bc9ee786b3",
        "scrolled": true
      },
      "outputs": [
        {
          "name": "stdout",
          "output_type": "stream",
          "text": [
            "<class 'pandas.core.frame.DataFrame'>\n",
            "RangeIndex: 319795 entries, 0 to 319794\n",
            "Data columns (total 18 columns):\n",
            " #   Column            Non-Null Count   Dtype  \n",
            "---  ------            --------------   -----  \n",
            " 0   HeartDisease      319795 non-null  int64  \n",
            " 1   BMI               319795 non-null  float64\n",
            " 2   Smoking           319795 non-null  int64  \n",
            " 3   AlcoholDrinking   319795 non-null  int64  \n",
            " 4   Stroke            319795 non-null  int64  \n",
            " 5   PhysicalHealth    319795 non-null  float64\n",
            " 6   MentalHealth      319795 non-null  float64\n",
            " 7   DiffWalking       319795 non-null  int64  \n",
            " 8   Gender            319795 non-null  int64  \n",
            " 9   AgeCategory       319795 non-null  int64  \n",
            " 10  Race              319795 non-null  int64  \n",
            " 11  Diabetic          319795 non-null  int64  \n",
            " 12  PhysicalActivity  319795 non-null  int64  \n",
            " 13  GenHealth         319795 non-null  int64  \n",
            " 14  SleepTime         319795 non-null  float64\n",
            " 15  Asthma            319795 non-null  int64  \n",
            " 16  KidneyDisease     319795 non-null  int64  \n",
            " 17  SkinCancer        319795 non-null  int64  \n",
            "dtypes: float64(4), int64(14)\n",
            "memory usage: 43.9 MB\n"
          ]
        }
      ],
      "source": [
        "data.info()"
      ],
      "id": "8e090280"
    },
    {
      "cell_type": "markdown",
      "metadata": {
        "id": "eClxqgNTil5j"
      },
      "source": [
        "##### Observations : All columns are now numerical! Finally, We can start work on it!"
      ],
      "id": "eClxqgNTil5j"
    },
    {
      "cell_type": "markdown",
      "metadata": {
        "id": "d559d269"
      },
      "source": [
        "# Separating Feature Columns and Target Column"
      ],
      "id": "d559d269"
    },
    {
      "cell_type": "code",
      "execution_count": null,
      "metadata": {
        "id": "e18c5c00"
      },
      "outputs": [],
      "source": [
        "X = data.iloc[:,data.columns != 'HeartDisease']\n",
        "y = data.HeartDisease"
      ],
      "id": "e18c5c00"
    },
    {
      "cell_type": "markdown",
      "metadata": {
        "id": "6b1384fc"
      },
      "source": [
        "# Use StandardScaler() on continuous feature columns"
      ],
      "id": "6b1384fc"
    },
    {
      "cell_type": "code",
      "execution_count": null,
      "metadata": {
        "colab": {
          "base_uri": "https://localhost:8080/",
          "height": 488
        },
        "id": "0aa79775",
        "outputId": "8f553c9e-845d-4f24-b317-b1e6f05d72e2"
      },
      "outputs": [
        {
          "data": {
            "text/html": [
              "<div>\n",
              "<style scoped>\n",
              "    .dataframe tbody tr th:only-of-type {\n",
              "        vertical-align: middle;\n",
              "    }\n",
              "\n",
              "    .dataframe tbody tr th {\n",
              "        vertical-align: top;\n",
              "    }\n",
              "\n",
              "    .dataframe thead th {\n",
              "        text-align: right;\n",
              "    }\n",
              "</style>\n",
              "<table border=\"1\" class=\"dataframe\">\n",
              "  <thead>\n",
              "    <tr style=\"text-align: right;\">\n",
              "      <th></th>\n",
              "      <th>BMI</th>\n",
              "      <th>Smoking</th>\n",
              "      <th>AlcoholDrinking</th>\n",
              "      <th>Stroke</th>\n",
              "      <th>PhysicalHealth</th>\n",
              "      <th>MentalHealth</th>\n",
              "      <th>DiffWalking</th>\n",
              "      <th>Gender</th>\n",
              "      <th>AgeCategory</th>\n",
              "      <th>Race</th>\n",
              "      <th>Diabetic</th>\n",
              "      <th>PhysicalActivity</th>\n",
              "      <th>GenHealth</th>\n",
              "      <th>SleepTime</th>\n",
              "      <th>Asthma</th>\n",
              "      <th>KidneyDisease</th>\n",
              "      <th>SkinCancer</th>\n",
              "    </tr>\n",
              "  </thead>\n",
              "  <tbody>\n",
              "    <tr>\n",
              "      <th>0</th>\n",
              "      <td>-1.844750</td>\n",
              "      <td>1</td>\n",
              "      <td>0</td>\n",
              "      <td>0</td>\n",
              "      <td>-0.046751</td>\n",
              "      <td>3.281069</td>\n",
              "      <td>0</td>\n",
              "      <td>0</td>\n",
              "      <td>0.151864</td>\n",
              "      <td>1</td>\n",
              "      <td>1</td>\n",
              "      <td>1</td>\n",
              "      <td>1</td>\n",
              "      <td>-1.460354</td>\n",
              "      <td>1</td>\n",
              "      <td>0</td>\n",
              "      <td>1</td>\n",
              "    </tr>\n",
              "    <tr>\n",
              "      <th>1</th>\n",
              "      <td>-1.256338</td>\n",
              "      <td>0</td>\n",
              "      <td>0</td>\n",
              "      <td>1</td>\n",
              "      <td>-0.424070</td>\n",
              "      <td>-0.490039</td>\n",
              "      <td>0</td>\n",
              "      <td>0</td>\n",
              "      <td>1.440691</td>\n",
              "      <td>1</td>\n",
              "      <td>0</td>\n",
              "      <td>1</td>\n",
              "      <td>1</td>\n",
              "      <td>-0.067601</td>\n",
              "      <td>0</td>\n",
              "      <td>0</td>\n",
              "      <td>0</td>\n",
              "    </tr>\n",
              "    <tr>\n",
              "      <th>2</th>\n",
              "      <td>-0.274603</td>\n",
              "      <td>1</td>\n",
              "      <td>0</td>\n",
              "      <td>0</td>\n",
              "      <td>2.091388</td>\n",
              "      <td>3.281069</td>\n",
              "      <td>0</td>\n",
              "      <td>1</td>\n",
              "      <td>0.712223</td>\n",
              "      <td>1</td>\n",
              "      <td>1</td>\n",
              "      <td>1</td>\n",
              "      <td>0</td>\n",
              "      <td>0.628776</td>\n",
              "      <td>1</td>\n",
              "      <td>0</td>\n",
              "      <td>0</td>\n",
              "    </tr>\n",
              "    <tr>\n",
              "      <th>3</th>\n",
              "      <td>-0.647473</td>\n",
              "      <td>0</td>\n",
              "      <td>0</td>\n",
              "      <td>0</td>\n",
              "      <td>-0.424070</td>\n",
              "      <td>-0.490039</td>\n",
              "      <td>0</td>\n",
              "      <td>0</td>\n",
              "      <td>1.272583</td>\n",
              "      <td>1</td>\n",
              "      <td>0</td>\n",
              "      <td>0</td>\n",
              "      <td>1</td>\n",
              "      <td>-0.763977</td>\n",
              "      <td>0</td>\n",
              "      <td>0</td>\n",
              "      <td>1</td>\n",
              "    </tr>\n",
              "    <tr>\n",
              "      <th>4</th>\n",
              "      <td>-0.726138</td>\n",
              "      <td>0</td>\n",
              "      <td>0</td>\n",
              "      <td>0</td>\n",
              "      <td>3.097572</td>\n",
              "      <td>-0.490039</td>\n",
              "      <td>1</td>\n",
              "      <td>0</td>\n",
              "      <td>-0.688676</td>\n",
              "      <td>1</td>\n",
              "      <td>0</td>\n",
              "      <td>1</td>\n",
              "      <td>1</td>\n",
              "      <td>0.628776</td>\n",
              "      <td>0</td>\n",
              "      <td>0</td>\n",
              "      <td>0</td>\n",
              "    </tr>\n",
              "    <tr>\n",
              "      <th>...</th>\n",
              "      <td>...</td>\n",
              "      <td>...</td>\n",
              "      <td>...</td>\n",
              "      <td>...</td>\n",
              "      <td>...</td>\n",
              "      <td>...</td>\n",
              "      <td>...</td>\n",
              "      <td>...</td>\n",
              "      <td>...</td>\n",
              "      <td>...</td>\n",
              "      <td>...</td>\n",
              "      <td>...</td>\n",
              "      <td>...</td>\n",
              "      <td>...</td>\n",
              "      <td>...</td>\n",
              "      <td>...</td>\n",
              "      <td>...</td>\n",
              "    </tr>\n",
              "    <tr>\n",
              "      <th>319790</th>\n",
              "      <td>-0.144019</td>\n",
              "      <td>1</td>\n",
              "      <td>0</td>\n",
              "      <td>0</td>\n",
              "      <td>0.456341</td>\n",
              "      <td>-0.490039</td>\n",
              "      <td>1</td>\n",
              "      <td>1</td>\n",
              "      <td>0.432043</td>\n",
              "      <td>0</td>\n",
              "      <td>1</td>\n",
              "      <td>0</td>\n",
              "      <td>0</td>\n",
              "      <td>-0.763977</td>\n",
              "      <td>1</td>\n",
              "      <td>0</td>\n",
              "      <td>0</td>\n",
              "    </tr>\n",
              "    <tr>\n",
              "      <th>319791</th>\n",
              "      <td>0.238291</td>\n",
              "      <td>1</td>\n",
              "      <td>0</td>\n",
              "      <td>0</td>\n",
              "      <td>-0.424070</td>\n",
              "      <td>-0.490039</td>\n",
              "      <td>0</td>\n",
              "      <td>1</td>\n",
              "      <td>-0.968856</td>\n",
              "      <td>0</td>\n",
              "      <td>0</td>\n",
              "      <td>1</td>\n",
              "      <td>1</td>\n",
              "      <td>-1.460354</td>\n",
              "      <td>1</td>\n",
              "      <td>0</td>\n",
              "      <td>0</td>\n",
              "    </tr>\n",
              "    <tr>\n",
              "      <th>319792</th>\n",
              "      <td>-0.642753</td>\n",
              "      <td>0</td>\n",
              "      <td>0</td>\n",
              "      <td>0</td>\n",
              "      <td>-0.424070</td>\n",
              "      <td>-0.490039</td>\n",
              "      <td>0</td>\n",
              "      <td>0</td>\n",
              "      <td>-0.408496</td>\n",
              "      <td>0</td>\n",
              "      <td>0</td>\n",
              "      <td>1</td>\n",
              "      <td>1</td>\n",
              "      <td>-0.763977</td>\n",
              "      <td>0</td>\n",
              "      <td>0</td>\n",
              "      <td>0</td>\n",
              "    </tr>\n",
              "    <tr>\n",
              "      <th>319793</th>\n",
              "      <td>0.705560</td>\n",
              "      <td>0</td>\n",
              "      <td>0</td>\n",
              "      <td>0</td>\n",
              "      <td>-0.424070</td>\n",
              "      <td>-0.490039</td>\n",
              "      <td>0</td>\n",
              "      <td>0</td>\n",
              "      <td>-1.529216</td>\n",
              "      <td>0</td>\n",
              "      <td>0</td>\n",
              "      <td>0</td>\n",
              "      <td>1</td>\n",
              "      <td>3.414282</td>\n",
              "      <td>0</td>\n",
              "      <td>0</td>\n",
              "      <td>0</td>\n",
              "    </tr>\n",
              "    <tr>\n",
              "      <th>319794</th>\n",
              "      <td>2.868839</td>\n",
              "      <td>0</td>\n",
              "      <td>0</td>\n",
              "      <td>0</td>\n",
              "      <td>-0.424070</td>\n",
              "      <td>-0.490039</td>\n",
              "      <td>0</td>\n",
              "      <td>0</td>\n",
              "      <td>1.440691</td>\n",
              "      <td>0</td>\n",
              "      <td>0</td>\n",
              "      <td>1</td>\n",
              "      <td>1</td>\n",
              "      <td>0.628776</td>\n",
              "      <td>0</td>\n",
              "      <td>0</td>\n",
              "      <td>0</td>\n",
              "    </tr>\n",
              "  </tbody>\n",
              "</table>\n",
              "<p>319795 rows × 17 columns</p>\n",
              "</div>"
            ],
            "text/plain": [
              "             BMI  Smoking  AlcoholDrinking  Stroke  PhysicalHealth  \\\n",
              "0      -1.844750        1                0       0       -0.046751   \n",
              "1      -1.256338        0                0       1       -0.424070   \n",
              "2      -0.274603        1                0       0        2.091388   \n",
              "3      -0.647473        0                0       0       -0.424070   \n",
              "4      -0.726138        0                0       0        3.097572   \n",
              "...          ...      ...              ...     ...             ...   \n",
              "319790 -0.144019        1                0       0        0.456341   \n",
              "319791  0.238291        1                0       0       -0.424070   \n",
              "319792 -0.642753        0                0       0       -0.424070   \n",
              "319793  0.705560        0                0       0       -0.424070   \n",
              "319794  2.868839        0                0       0       -0.424070   \n",
              "\n",
              "        MentalHealth  DiffWalking  Gender  AgeCategory  Race  Diabetic  \\\n",
              "0           3.281069            0       0     0.151864     1         1   \n",
              "1          -0.490039            0       0     1.440691     1         0   \n",
              "2           3.281069            0       1     0.712223     1         1   \n",
              "3          -0.490039            0       0     1.272583     1         0   \n",
              "4          -0.490039            1       0    -0.688676     1         0   \n",
              "...              ...          ...     ...          ...   ...       ...   \n",
              "319790     -0.490039            1       1     0.432043     0         1   \n",
              "319791     -0.490039            0       1    -0.968856     0         0   \n",
              "319792     -0.490039            0       0    -0.408496     0         0   \n",
              "319793     -0.490039            0       0    -1.529216     0         0   \n",
              "319794     -0.490039            0       0     1.440691     0         0   \n",
              "\n",
              "        PhysicalActivity  GenHealth  SleepTime  Asthma  KidneyDisease  \\\n",
              "0                      1          1  -1.460354       1              0   \n",
              "1                      1          1  -0.067601       0              0   \n",
              "2                      1          0   0.628776       1              0   \n",
              "3                      0          1  -0.763977       0              0   \n",
              "4                      1          1   0.628776       0              0   \n",
              "...                  ...        ...        ...     ...            ...   \n",
              "319790                 0          0  -0.763977       1              0   \n",
              "319791                 1          1  -1.460354       1              0   \n",
              "319792                 1          1  -0.763977       0              0   \n",
              "319793                 0          1   3.414282       0              0   \n",
              "319794                 1          1   0.628776       0              0   \n",
              "\n",
              "        SkinCancer  \n",
              "0                1  \n",
              "1                0  \n",
              "2                0  \n",
              "3                1  \n",
              "4                0  \n",
              "...            ...  \n",
              "319790           0  \n",
              "319791           0  \n",
              "319792           0  \n",
              "319793           0  \n",
              "319794           0  \n",
              "\n",
              "[319795 rows x 17 columns]"
            ]
          },
          "execution_count": 279,
          "metadata": {},
          "output_type": "execute_result"
        }
      ],
      "source": [
        "scaled_features = X.copy()\n",
        "col_names = ['BMI', 'PhysicalHealth', 'MentalHealth', 'SleepTime', 'AgeCategory']\n",
        "features = scaled_features[col_names]\n",
        "scaler = StandardScaler().fit(features.values)\n",
        "features = scaler.transform(features.values) \n",
        "scaled_features[col_names] = features\n",
        "X = scaled_features;X"
      ],
      "id": "0aa79775"
    },
    {
      "cell_type": "markdown",
      "metadata": {
        "id": "ea238b24"
      },
      "source": [
        "# Correlation Matrix"
      ],
      "id": "ea238b24"
    },
    {
      "cell_type": "markdown",
      "metadata": {
        "id": "fef14464"
      },
      "source": [
        "### As we can't derive correlation between categorical and continuous columns (because it doesn't make any sense), we will find the spearman rank correlation matrix between the categorical columns and pearson correlation matrix between continuous columns"
      ],
      "id": "fef14464"
    },
    {
      "cell_type": "markdown",
      "metadata": {
        "id": "c541aba0"
      },
      "source": [
        "## Spearman Rank correlation matrix between categorical columns"
      ],
      "id": "c541aba0"
    },
    {
      "cell_type": "code",
      "execution_count": null,
      "metadata": {
        "id": "dbaa57d5"
      },
      "outputs": [],
      "source": [
        "list2 = ['Smoking', 'AlcoholDrinking', 'Stroke', 'Race', 'DiffWalking', 'Diabetic', 'PhysicalActivity', 'GenHealth', 'Asthma', 'KidneyDisease', 'SkinCancer']"
      ],
      "id": "dbaa57d5"
    },
    {
      "cell_type": "code",
      "execution_count": null,
      "metadata": {
        "colab": {
          "base_uri": "https://localhost:8080/",
          "height": 773
        },
        "id": "3925b70c",
        "outputId": "bfeadf53-2965-4467-fa48-cea441e08a6f"
      },
      "outputs": [
        {
          "data": {
            "image/png": "[encoded data removed]",
            "text/plain": [
              "<Figure size 864x864 with 2 Axes>"
            ]
          },
          "metadata": {
            "needs_background": "light"
          },
          "output_type": "display_data"
        }
      ],
      "source": [
        "cat_df = X[list2]\n",
        "cmap = sns.diverging_palette(220, 20 ,s=50, l=40, n=6,as_cmap=True)\n",
        "corr_X = cat_df.corr(method=\"spearman\")\n",
        "f, ax = plt.subplots(figsize=(12,12))\n",
        "sns.heatmap(corr_X,cmap=cmap,annot=True)\n",
        "plt.show()"
      ],
      "id": "3925b70c"
    },
    {
      "cell_type": "markdown",
      "metadata": {
        "id": "JU81dr2qCKJ3"
      },
      "source": [
        "##### Observation : No significant correlation found to drop any columns! Max correlation coming as -0.41 between DiffWlking and GenHealth"
      ],
      "id": "JU81dr2qCKJ3"
    },
    {
      "cell_type": "markdown",
      "metadata": {
        "id": "4af739d0"
      },
      "source": [
        "# Pearson Correlation Matrix among continuous columns"
      ],
      "id": "4af739d0"
    },
    {
      "cell_type": "code",
      "execution_count": null,
      "metadata": {
        "id": "b22b7af7"
      },
      "outputs": [],
      "source": [
        "list3 = ['BMI', 'PhysicalHealth', 'MentalHealth', 'SleepTime', 'AgeCategory']"
      ],
      "id": "b22b7af7"
    },
    {
      "cell_type": "code",
      "execution_count": null,
      "metadata": {
        "colab": {
          "base_uri": "https://localhost:8080/",
          "height": 704
        },
        "id": "359fbc2d",
        "outputId": "1c95f4f6-c793-48a1-f171-dddd41b62568"
      },
      "outputs": [
        {
          "data": {
            "image/png": "[encoded data removed]",
            "text/plain": [
              "<Figure size 864x864 with 2 Axes>"
            ]
          },
          "metadata": {
            "needs_background": "light"
          },
          "output_type": "display_data"
        }
      ],
      "source": [
        "con_df = X[list3]\n",
        "cmap = sns.diverging_palette(220, 20 ,s=50, l=40, n=6,as_cmap=True)\n",
        "corr_X1 = con_df.corr()\n",
        "f, ax = plt.subplots(figsize=(12,12))\n",
        "sns.heatmap(corr_X1,cmap=cmap,annot=True)\n",
        "plt.show()"
      ],
      "id": "359fbc2d"
    },
    {
      "cell_type": "markdown",
      "metadata": {
        "id": "9d24e24d"
      },
      "source": [
        "##### Observations :  No need to drop any continuous column"
      ],
      "id": "9d24e24d"
    },
    {
      "cell_type": "markdown",
      "metadata": {
        "id": "d57fc069"
      },
      "source": [
        "# dropping correlated columns(among categorical features)"
      ],
      "id": "d57fc069"
    },
    {
      "cell_type": "code",
      "execution_count": null,
      "metadata": {
        "colab": {
          "base_uri": "https://localhost:8080/",
          "height": 540
        },
        "id": "8f486281",
        "outputId": "ead71538-034f-42bd-d37f-817f0c3a8714"
      },
      "outputs": [
        {
          "data": {
            "text/html": [
              "<div>\n",
              "<style scoped>\n",
              "    .dataframe tbody tr th:only-of-type {\n",
              "        vertical-align: middle;\n",
              "    }\n",
              "\n",
              "    .dataframe tbody tr th {\n",
              "        vertical-align: top;\n",
              "    }\n",
              "\n",
              "    .dataframe thead th {\n",
              "        text-align: right;\n",
              "    }\n",
              "</style>\n",
              "<table border=\"1\" class=\"dataframe\">\n",
              "  <thead>\n",
              "    <tr style=\"text-align: right;\">\n",
              "      <th></th>\n",
              "      <th>BMI</th>\n",
              "      <th>Smoking</th>\n",
              "      <th>AlcoholDrinking</th>\n",
              "      <th>Stroke</th>\n",
              "      <th>PhysicalHealth</th>\n",
              "      <th>MentalHealth</th>\n",
              "      <th>DiffWalking</th>\n",
              "      <th>Gender</th>\n",
              "      <th>AgeCategory</th>\n",
              "      <th>Race</th>\n",
              "      <th>Diabetic</th>\n",
              "      <th>PhysicalActivity</th>\n",
              "      <th>GenHealth</th>\n",
              "      <th>SleepTime</th>\n",
              "      <th>Asthma</th>\n",
              "      <th>KidneyDisease</th>\n",
              "      <th>SkinCancer</th>\n",
              "    </tr>\n",
              "  </thead>\n",
              "  <tbody>\n",
              "    <tr>\n",
              "      <th>0</th>\n",
              "      <td>-1.844750</td>\n",
              "      <td>1</td>\n",
              "      <td>0</td>\n",
              "      <td>0</td>\n",
              "      <td>-0.046751</td>\n",
              "      <td>3.281069</td>\n",
              "      <td>0</td>\n",
              "      <td>0</td>\n",
              "      <td>0.151864</td>\n",
              "      <td>1</td>\n",
              "      <td>1</td>\n",
              "      <td>1</td>\n",
              "      <td>1</td>\n",
              "      <td>-1.460354</td>\n",
              "      <td>1</td>\n",
              "      <td>0</td>\n",
              "      <td>1</td>\n",
              "    </tr>\n",
              "    <tr>\n",
              "      <th>1</th>\n",
              "      <td>-1.256338</td>\n",
              "      <td>0</td>\n",
              "      <td>0</td>\n",
              "      <td>1</td>\n",
              "      <td>-0.424070</td>\n",
              "      <td>-0.490039</td>\n",
              "      <td>0</td>\n",
              "      <td>0</td>\n",
              "      <td>1.440691</td>\n",
              "      <td>1</td>\n",
              "      <td>0</td>\n",
              "      <td>1</td>\n",
              "      <td>1</td>\n",
              "      <td>-0.067601</td>\n",
              "      <td>0</td>\n",
              "      <td>0</td>\n",
              "      <td>0</td>\n",
              "    </tr>\n",
              "    <tr>\n",
              "      <th>2</th>\n",
              "      <td>-0.274603</td>\n",
              "      <td>1</td>\n",
              "      <td>0</td>\n",
              "      <td>0</td>\n",
              "      <td>2.091388</td>\n",
              "      <td>3.281069</td>\n",
              "      <td>0</td>\n",
              "      <td>1</td>\n",
              "      <td>0.712223</td>\n",
              "      <td>1</td>\n",
              "      <td>1</td>\n",
              "      <td>1</td>\n",
              "      <td>0</td>\n",
              "      <td>0.628776</td>\n",
              "      <td>1</td>\n",
              "      <td>0</td>\n",
              "      <td>0</td>\n",
              "    </tr>\n",
              "    <tr>\n",
              "      <th>3</th>\n",
              "      <td>-0.647473</td>\n",
              "      <td>0</td>\n",
              "      <td>0</td>\n",
              "      <td>0</td>\n",
              "      <td>-0.424070</td>\n",
              "      <td>-0.490039</td>\n",
              "      <td>0</td>\n",
              "      <td>0</td>\n",
              "      <td>1.272583</td>\n",
              "      <td>1</td>\n",
              "      <td>0</td>\n",
              "      <td>0</td>\n",
              "      <td>1</td>\n",
              "      <td>-0.763977</td>\n",
              "      <td>0</td>\n",
              "      <td>0</td>\n",
              "      <td>1</td>\n",
              "    </tr>\n",
              "    <tr>\n",
              "      <th>4</th>\n",
              "      <td>-0.726138</td>\n",
              "      <td>0</td>\n",
              "      <td>0</td>\n",
              "      <td>0</td>\n",
              "      <td>3.097572</td>\n",
              "      <td>-0.490039</td>\n",
              "      <td>1</td>\n",
              "      <td>0</td>\n",
              "      <td>-0.688676</td>\n",
              "      <td>1</td>\n",
              "      <td>0</td>\n",
              "      <td>1</td>\n",
              "      <td>1</td>\n",
              "      <td>0.628776</td>\n",
              "      <td>0</td>\n",
              "      <td>0</td>\n",
              "      <td>0</td>\n",
              "    </tr>\n",
              "    <tr>\n",
              "      <th>...</th>\n",
              "      <td>...</td>\n",
              "      <td>...</td>\n",
              "      <td>...</td>\n",
              "      <td>...</td>\n",
              "      <td>...</td>\n",
              "      <td>...</td>\n",
              "      <td>...</td>\n",
              "      <td>...</td>\n",
              "      <td>...</td>\n",
              "      <td>...</td>\n",
              "      <td>...</td>\n",
              "      <td>...</td>\n",
              "      <td>...</td>\n",
              "      <td>...</td>\n",
              "      <td>...</td>\n",
              "      <td>...</td>\n",
              "      <td>...</td>\n",
              "    </tr>\n",
              "    <tr>\n",
              "      <th>319790</th>\n",
              "      <td>-0.144019</td>\n",
              "      <td>1</td>\n",
              "      <td>0</td>\n",
              "      <td>0</td>\n",
              "      <td>0.456341</td>\n",
              "      <td>-0.490039</td>\n",
              "      <td>1</td>\n",
              "      <td>1</td>\n",
              "      <td>0.432043</td>\n",
              "      <td>0</td>\n",
              "      <td>1</td>\n",
              "      <td>0</td>\n",
              "      <td>0</td>\n",
              "      <td>-0.763977</td>\n",
              "      <td>1</td>\n",
              "      <td>0</td>\n",
              "      <td>0</td>\n",
              "    </tr>\n",
              "    <tr>\n",
              "      <th>319791</th>\n",
              "      <td>0.238291</td>\n",
              "      <td>1</td>\n",
              "      <td>0</td>\n",
              "      <td>0</td>\n",
              "      <td>-0.424070</td>\n",
              "      <td>-0.490039</td>\n",
              "      <td>0</td>\n",
              "      <td>1</td>\n",
              "      <td>-0.968856</td>\n",
              "      <td>0</td>\n",
              "      <td>0</td>\n",
              "      <td>1</td>\n",
              "      <td>1</td>\n",
              "      <td>-1.460354</td>\n",
              "      <td>1</td>\n",
              "      <td>0</td>\n",
              "      <td>0</td>\n",
              "    </tr>\n",
              "    <tr>\n",
              "      <th>319792</th>\n",
              "      <td>-0.642753</td>\n",
              "      <td>0</td>\n",
              "      <td>0</td>\n",
              "      <td>0</td>\n",
              "      <td>-0.424070</td>\n",
              "      <td>-0.490039</td>\n",
              "      <td>0</td>\n",
              "      <td>0</td>\n",
              "      <td>-0.408496</td>\n",
              "      <td>0</td>\n",
              "      <td>0</td>\n",
              "      <td>1</td>\n",
              "      <td>1</td>\n",
              "      <td>-0.763977</td>\n",
              "      <td>0</td>\n",
              "      <td>0</td>\n",
              "      <td>0</td>\n",
              "    </tr>\n",
              "    <tr>\n",
              "      <th>319793</th>\n",
              "      <td>0.705560</td>\n",
              "      <td>0</td>\n",
              "      <td>0</td>\n",
              "      <td>0</td>\n",
              "      <td>-0.424070</td>\n",
              "      <td>-0.490039</td>\n",
              "      <td>0</td>\n",
              "      <td>0</td>\n",
              "      <td>-1.529216</td>\n",
              "      <td>0</td>\n",
              "      <td>0</td>\n",
              "      <td>0</td>\n",
              "      <td>1</td>\n",
              "      <td>3.414282</td>\n",
              "      <td>0</td>\n",
              "      <td>0</td>\n",
              "      <td>0</td>\n",
              "    </tr>\n",
              "    <tr>\n",
              "      <th>319794</th>\n",
              "      <td>2.868839</td>\n",
              "      <td>0</td>\n",
              "      <td>0</td>\n",
              "      <td>0</td>\n",
              "      <td>-0.424070</td>\n",
              "      <td>-0.490039</td>\n",
              "      <td>0</td>\n",
              "      <td>0</td>\n",
              "      <td>1.440691</td>\n",
              "      <td>0</td>\n",
              "      <td>0</td>\n",
              "      <td>1</td>\n",
              "      <td>1</td>\n",
              "      <td>0.628776</td>\n",
              "      <td>0</td>\n",
              "      <td>0</td>\n",
              "      <td>0</td>\n",
              "    </tr>\n",
              "  </tbody>\n",
              "</table>\n",
              "<p>319795 rows × 17 columns</p>\n",
              "</div>"
            ],
            "text/plain": [
              "             BMI  Smoking  AlcoholDrinking  Stroke  PhysicalHealth  \\\n",
              "0      -1.844750        1                0       0       -0.046751   \n",
              "1      -1.256338        0                0       1       -0.424070   \n",
              "2      -0.274603        1                0       0        2.091388   \n",
              "3      -0.647473        0                0       0       -0.424070   \n",
              "4      -0.726138        0                0       0        3.097572   \n",
              "...          ...      ...              ...     ...             ...   \n",
              "319790 -0.144019        1                0       0        0.456341   \n",
              "319791  0.238291        1                0       0       -0.424070   \n",
              "319792 -0.642753        0                0       0       -0.424070   \n",
              "319793  0.705560        0                0       0       -0.424070   \n",
              "319794  2.868839        0                0       0       -0.424070   \n",
              "\n",
              "        MentalHealth  DiffWalking  Gender  AgeCategory  Race  Diabetic  \\\n",
              "0           3.281069            0       0     0.151864     1         1   \n",
              "1          -0.490039            0       0     1.440691     1         0   \n",
              "2           3.281069            0       1     0.712223     1         1   \n",
              "3          -0.490039            0       0     1.272583     1         0   \n",
              "4          -0.490039            1       0    -0.688676     1         0   \n",
              "...              ...          ...     ...          ...   ...       ...   \n",
              "319790     -0.490039            1       1     0.432043     0         1   \n",
              "319791     -0.490039            0       1    -0.968856     0         0   \n",
              "319792     -0.490039            0       0    -0.408496     0         0   \n",
              "319793     -0.490039            0       0    -1.529216     0         0   \n",
              "319794     -0.490039            0       0     1.440691     0         0   \n",
              "\n",
              "        PhysicalActivity  GenHealth  SleepTime  Asthma  KidneyDisease  \\\n",
              "0                      1          1  -1.460354       1              0   \n",
              "1                      1          1  -0.067601       0              0   \n",
              "2                      1          0   0.628776       1              0   \n",
              "3                      0          1  -0.763977       0              0   \n",
              "4                      1          1   0.628776       0              0   \n",
              "...                  ...        ...        ...     ...            ...   \n",
              "319790                 0          0  -0.763977       1              0   \n",
              "319791                 1          1  -1.460354       1              0   \n",
              "319792                 1          1  -0.763977       0              0   \n",
              "319793                 0          1   3.414282       0              0   \n",
              "319794                 1          1   0.628776       0              0   \n",
              "\n",
              "        SkinCancer  \n",
              "0                1  \n",
              "1                0  \n",
              "2                0  \n",
              "3                1  \n",
              "4                0  \n",
              "...            ...  \n",
              "319790           0  \n",
              "319791           0  \n",
              "319792           0  \n",
              "319793           0  \n",
              "319794           0  \n",
              "\n",
              "[319795 rows x 17 columns]"
            ]
          },
          "execution_count": 284,
          "metadata": {},
          "output_type": "execute_result"
        }
      ],
      "source": [
        "cor_matrix = (pd.DataFrame(cat_df)).corr().abs()\n",
        "upper_tri = cor_matrix.where(np.triu(np.ones(cor_matrix.shape),k=1).astype(np.bool))\n",
        "to_drop = [column for column in upper_tri.columns if any(upper_tri[column] > 0.6)]\n",
        "X.drop(X.columns[to_drop], axis=1, inplace = True);X"
      ],
      "id": "8f486281"
    },
    {
      "cell_type": "markdown",
      "metadata": {
        "id": "v9jgfL3Yil5p"
      },
      "source": [
        "##### Observations : No columns dropped !"
      ],
      "id": "v9jgfL3Yil5p"
    },
    {
      "cell_type": "markdown",
      "metadata": {
        "id": "73122b1d"
      },
      "source": [
        "# splitting into train-test"
      ],
      "id": "73122b1d"
    },
    {
      "cell_type": "code",
      "execution_count": null,
      "metadata": {
        "id": "d628e0ee",
        "outputId": "1b1beef2-8409-43d7-bf0d-feeb288e9e62",
        "scrolled": true
      },
      "outputs": [
        {
          "name": "stdout",
          "output_type": "stream",
          "text": [
            "X_train:(255836, 17)\n",
            "y_train:(255836,)\n",
            "X_test:(63959, 17)\n",
            "y_test:(63959,)\n"
          ]
        }
      ],
      "source": [
        "# split the dataset into train and test sets\n",
        "X_train, X_test, y_train,y_test = train_test_split(X, y, test_size=0.2, shuffle=False)\n",
        "# print train and test set shapes\n",
        "print(f\"X_train:{X_train.shape}\\ny_train:{y_train.shape}\")\n",
        "print(f\"X_test:{X_test.shape}\\ny_test:{y_test.shape}\")"
      ],
      "id": "d628e0ee"
    },
    {
      "cell_type": "markdown",
      "metadata": {
        "id": "6723fc8e"
      },
      "source": [
        "# Building the Logistics Model with Scikit Learn"
      ],
      "id": "6723fc8e"
    },
    {
      "cell_type": "code",
      "execution_count": null,
      "metadata": {
        "id": "f349fb9a",
        "outputId": "2a01fc1f-7732-4d44-bb8d-b24daccfba50"
      },
      "outputs": [
        {
          "name": "stdout",
          "output_type": "stream",
          "text": [
            "\n",
            "Confusion Matrix\n"
          ]
        },
        {
          "data": {
            "image/png": "[encoded data removed]",
            "text/plain": [
              "<Figure size 432x288 with 2 Axes>"
            ]
          },
          "metadata": {
            "needs_background": "light"
          },
          "output_type": "display_data"
        },
        {
          "name": "stdout",
          "output_type": "stream",
          "text": [
            "accuracy of the model: 0.9171813192826654\n"
          ]
        }
      ],
      "source": [
        "log_reg_model = LogisticRegression(max_iter=2500,random_state=42)\n",
        "log_reg_model.fit(X_train, y_train)\n",
        "y_pred = log_reg_model.predict(X_test) # Predictions\n",
        "\n",
        "\n",
        "# Make the confusion matrix\n",
        "conf_matrix = confusion_matrix(y_test, y_pred)\n",
        "print(\"\\nConfusion Matrix\")\n",
        "sns.heatmap(conf_matrix, annot=True, cmap='Blues')\n",
        "plt.xlabel('Predicted', fontsize=12)\n",
        "plt.ylabel('True', fontsize=12)\n",
        "plt.show()\n",
        "\n",
        "print(\"accuracy of the model:\", accuracy_score(y_test, y_pred))"
      ],
      "id": "f349fb9a"
    },
    {
      "cell_type": "markdown",
      "metadata": {
        "id": "XC-pcgi5il5q"
      },
      "source": [
        "![conf.png](attachment:conf.png)"
      ],
      "id": "XC-pcgi5il5q"
    },
    {
      "cell_type": "markdown",
      "metadata": {
        "id": "IWIEvHk0il5q"
      },
      "source": [
        "##### References : https://medium.com/analytics-vidhya/confusion-matrix-in-machine-learning-91b6e2b3f9af"
      ],
      "id": "IWIEvHk0il5q"
    },
    {
      "cell_type": "markdown",
      "metadata": {
        "id": "5fOJSPf9il5q"
      },
      "source": [
        "### Interpreation : \n",
        "\n",
        "    True Positive: I predicted positive and it’s true.\n",
        "\n",
        "    True Negative:I predicted negative and it’s true.\n",
        "\n",
        "    False Positive: (Type 1 Error) I predicted positive and it’s false.\n",
        "\n",
        "    False Negative: (Type 2 Error)I predicted negative and it’s false."
      ],
      "id": "5fOJSPf9il5q"
    },
    {
      "cell_type": "markdown",
      "metadata": {
        "id": "35a9kAL0il5r"
      },
      "source": [
        "##### Accuracy : \n",
        "\n",
        "    It is defined as the closeness or exact of predicted value to the actual value.\n",
        "\n",
        "    Accuracy = (TP + TN)/(TP + TN + FP + FN)"
      ],
      "id": "35a9kAL0il5r"
    },
    {
      "cell_type": "markdown",
      "metadata": {
        "id": "c1061b29"
      },
      "source": [
        "# Building the Random Forest Model with Scikit Learn"
      ],
      "id": "c1061b29"
    },
    {
      "cell_type": "code",
      "execution_count": null,
      "metadata": {
        "id": "23a88a17",
        "outputId": "392a9885-1103-4382-b925-427ef130bdba"
      },
      "outputs": [
        {
          "name": "stdout",
          "output_type": "stream",
          "text": [
            "accuracy of the model:  0.9050798167576103\n"
          ]
        }
      ],
      "source": [
        "clf = RandomForestClassifier(n_estimators = 100)\n",
        "clf.fit(X_train, y_train)\n",
        "y_pred = clf.predict(X_test)\n",
        "print(\"accuracy of the model: \", metrics.accuracy_score(y_test, y_pred))"
      ],
      "id": "23a88a17"
    },
    {
      "cell_type": "markdown",
      "metadata": {
        "id": "75f3ecbd"
      },
      "source": [
        "# Building the Decision Tree Model with Scikit Learn"
      ],
      "id": "75f3ecbd"
    },
    {
      "cell_type": "code",
      "execution_count": null,
      "metadata": {
        "id": "1df272d5",
        "outputId": "21db83de-47f0-4a7a-b4b2-6aa3f57f93f5"
      },
      "outputs": [
        {
          "name": "stdout",
          "output_type": "stream",
          "text": [
            "accuracy of the model:  0.9163839334573711\n"
          ]
        }
      ],
      "source": [
        "clf_gini = DecisionTreeClassifier(criterion = \"gini\",random_state = 100,max_depth=3, min_samples_leaf=5)\n",
        "clf_gini.fit(X_train, y_train)\n",
        "y_pred = clf_gini.predict(X_test)\n",
        "print(\"accuracy of the model: \", metrics.accuracy_score(y_test, y_pred))"
      ],
      "id": "1df272d5"
    },
    {
      "cell_type": "markdown",
      "metadata": {
        "id": "74708419"
      },
      "source": [
        "# Building the Gaussian Naive Bayes Model with Scikit Learn"
      ],
      "id": "74708419"
    },
    {
      "cell_type": "code",
      "execution_count": null,
      "metadata": {
        "id": "cd0d8f5d",
        "outputId": "3768d1ea-cbd7-438b-d128-c40651021f4e"
      },
      "outputs": [
        {
          "name": "stdout",
          "output_type": "stream",
          "text": [
            "accuracy of the model:  0.8387717131287231\n"
          ]
        }
      ],
      "source": [
        "gnb = GaussianNB()\n",
        "gnb.fit(X_train, y_train)\n",
        "y_pred = gnb.predict(X_test)\n",
        "print(\"accuracy of the model: \", metrics.accuracy_score(y_test, y_pred))"
      ],
      "id": "cd0d8f5d"
    },
    {
      "cell_type": "markdown",
      "metadata": {
        "id": "ea02c223"
      },
      "source": [
        "# Building the KNN Model with Scikit Learn"
      ],
      "id": "ea02c223"
    },
    {
      "cell_type": "code",
      "execution_count": null,
      "metadata": {
        "id": "c57ef830",
        "outputId": "4f4375db-b37a-4eed-f008-792f6068d90a"
      },
      "outputs": [
        {
          "name": "stdout",
          "output_type": "stream",
          "text": [
            "accuracy of the model: 0.900983442517863\n"
          ]
        }
      ],
      "source": [
        "knn = KNeighborsClassifier(n_neighbors=3)\n",
        "knn.fit(X_train, y_train)\n",
        "y_pred = knn.predict(X_test)\n",
        "print(\"accuracy of the model:\", metrics.accuracy_score(y_test, y_pred))"
      ],
      "id": "c57ef830"
    },
    {
      "cell_type": "markdown",
      "metadata": {
        "id": "8c3db410"
      },
      "source": [
        "# Building the Linear SVM Model with Scikit Learn"
      ],
      "id": "8c3db410"
    },
    {
      "cell_type": "code",
      "execution_count": null,
      "metadata": {
        "id": "9a90dc1b",
        "outputId": "e9c81f4d-5c5c-427d-dad0-705ed10201fb"
      },
      "outputs": [
        {
          "name": "stdout",
          "output_type": "stream",
          "text": [
            "accuracy of the model: 0.9157585328100815\n"
          ]
        }
      ],
      "source": [
        "clf = SVC(kernel='linear') \n",
        "clf.fit(X_train, y_train)\n",
        "y_pred = clf.predict(X_test)\n",
        "print(\"accuracy of the model:\", metrics.accuracy_score(y_test, y_pred))"
      ],
      "id": "9a90dc1b"
    },
    {
      "cell_type": "markdown",
      "metadata": {
        "id": "KcmKzmwril5v"
      },
      "source": [
        "##### References : https://www.geeksforgeeks.org/"
      ],
      "id": "KcmKzmwril5v"
    },
    {
      "cell_type": "markdown",
      "metadata": {
        "id": "f231ab08"
      },
      "source": [
        "# Build the same logistic regression model with a neural network mindset in Keras"
      ],
      "id": "f231ab08"
    },
    {
      "cell_type": "markdown",
      "metadata": {
        "id": "6b31d8c9"
      },
      "source": [
        "### define and initiate an ANN model"
      ],
      "id": "6b31d8c9"
    },
    {
      "cell_type": "markdown",
      "metadata": {
        "id": "2625212f"
      },
      "source": [
        "# Implementing Gradient Descent"
      ],
      "id": "2625212f"
    },
    {
      "cell_type": "code",
      "execution_count": null,
      "metadata": {
        "id": "b2dee868",
        "scrolled": true
      },
      "outputs": [],
      "source": [
        "model = Sequential()\n",
        "# Add the input layer and first hidden layer\n",
        "model.add(layers.Dense(units=12, activation='relu', input_dim=X_train.shape[1]))\n",
        "# Add the second hidden layer\n",
        "model.add(layers.Dense(units=8, activation='relu'))\n",
        "# Add the output layer\n",
        "model.add(layers.Dense(units=1, activation='sigmoid', name = 'output'))"
      ],
      "id": "b2dee868"
    },
    {
      "cell_type": "code",
      "execution_count": null,
      "metadata": {
        "id": "72069e51"
      },
      "outputs": [],
      "source": [
        "opt = tf.keras.optimizers.SGD(learning_rate = 0.05)\n",
        "\n",
        "model.compile(optimizer = opt, loss = 'binary_crossentropy', metrics = ['accuracy'])"
      ],
      "id": "72069e51"
    },
    {
      "cell_type": "code",
      "execution_count": null,
      "metadata": {
        "id": "2648fe04",
        "outputId": "1a7482f9-3d64-4cc3-f6f5-66c7437d0a64"
      },
      "outputs": [
        {
          "name": "stdout",
          "output_type": "stream",
          "text": [
            "Epoch 1/50\n",
            "1/1 [==============================] - 0s 432ms/step - loss: 0.8582 - accuracy: 0.1591 - val_loss: 0.8280 - val_accuracy: 0.2049\n",
            "Epoch 2/50\n",
            "1/1 [==============================] - 0s 47ms/step - loss: 0.8244 - accuracy: 0.2094 - val_loss: 0.7978 - val_accuracy: 0.2785\n",
            "Epoch 3/50\n",
            "1/1 [==============================] - 0s 51ms/step - loss: 0.7942 - accuracy: 0.2855 - val_loss: 0.7705 - val_accuracy: 0.3626\n",
            "Epoch 4/50\n",
            "1/1 [==============================] - 0s 49ms/step - loss: 0.7669 - accuracy: 0.3712 - val_loss: 0.7457 - val_accuracy: 0.4449\n",
            "Epoch 5/50\n",
            "1/1 [==============================] - 0s 60ms/step - loss: 0.7421 - accuracy: 0.4547 - val_loss: 0.7230 - val_accuracy: 0.5205\n",
            "Epoch 6/50\n",
            "1/1 [==============================] - 0s 60ms/step - loss: 0.7194 - accuracy: 0.5282 - val_loss: 0.7020 - val_accuracy: 0.5849\n",
            "Epoch 7/50\n",
            "1/1 [==============================] - 0s 48ms/step - loss: 0.6985 - accuracy: 0.5932 - val_loss: 0.6827 - val_accuracy: 0.6425\n",
            "Epoch 8/50\n",
            "1/1 [==============================] - 0s 55ms/step - loss: 0.6792 - accuracy: 0.6494 - val_loss: 0.6646 - val_accuracy: 0.6918\n",
            "Epoch 9/50\n",
            "1/1 [==============================] - 0s 49ms/step - loss: 0.6611 - accuracy: 0.6985 - val_loss: 0.6476 - val_accuracy: 0.7317\n",
            "Epoch 10/50\n",
            "1/1 [==============================] - 0s 46ms/step - loss: 0.6442 - accuracy: 0.7387 - val_loss: 0.6317 - val_accuracy: 0.7659\n",
            "Epoch 11/50\n",
            "1/1 [==============================] - 0s 48ms/step - loss: 0.6283 - accuracy: 0.7732 - val_loss: 0.6166 - val_accuracy: 0.7958\n",
            "Epoch 12/50\n",
            "1/1 [==============================] - 0s 50ms/step - loss: 0.6132 - accuracy: 0.8016 - val_loss: 0.6023 - val_accuracy: 0.8193\n",
            "Epoch 13/50\n",
            "1/1 [==============================] - 0s 51ms/step - loss: 0.5989 - accuracy: 0.8256 - val_loss: 0.5886 - val_accuracy: 0.8393\n",
            "Epoch 14/50\n",
            "1/1 [==============================] - 0s 51ms/step - loss: 0.5853 - accuracy: 0.8461 - val_loss: 0.5756 - val_accuracy: 0.8572\n",
            "Epoch 15/50\n",
            "1/1 [==============================] - 0s 48ms/step - loss: 0.5723 - accuracy: 0.8631 - val_loss: 0.5630 - val_accuracy: 0.8703\n",
            "Epoch 16/50\n",
            "1/1 [==============================] - 0s 49ms/step - loss: 0.5597 - accuracy: 0.8757 - val_loss: 0.5510 - val_accuracy: 0.8793\n",
            "Epoch 17/50\n",
            "1/1 [==============================] - 0s 49ms/step - loss: 0.5477 - accuracy: 0.8848 - val_loss: 0.5394 - val_accuracy: 0.8866\n",
            "Epoch 18/50\n",
            "1/1 [==============================] - 0s 50ms/step - loss: 0.5361 - accuracy: 0.8908 - val_loss: 0.5281 - val_accuracy: 0.8916\n",
            "Epoch 19/50\n",
            "1/1 [==============================] - 0s 51ms/step - loss: 0.5249 - accuracy: 0.8954 - val_loss: 0.5173 - val_accuracy: 0.8956\n",
            "Epoch 20/50\n",
            "1/1 [==============================] - 0s 48ms/step - loss: 0.5141 - accuracy: 0.8988 - val_loss: 0.5068 - val_accuracy: 0.8984\n",
            "Epoch 21/50\n",
            "1/1 [==============================] - 0s 48ms/step - loss: 0.5036 - accuracy: 0.9017 - val_loss: 0.4967 - val_accuracy: 0.9006\n",
            "Epoch 22/50\n",
            "1/1 [==============================] - 0s 50ms/step - loss: 0.4935 - accuracy: 0.9037 - val_loss: 0.4869 - val_accuracy: 0.9027\n",
            "Epoch 23/50\n",
            "1/1 [==============================] - 0s 49ms/step - loss: 0.4837 - accuracy: 0.9053 - val_loss: 0.4774 - val_accuracy: 0.9044\n",
            "Epoch 24/50\n",
            "1/1 [==============================] - 0s 49ms/step - loss: 0.4741 - accuracy: 0.9069 - val_loss: 0.4682 - val_accuracy: 0.9057\n",
            "Epoch 25/50\n",
            "1/1 [==============================] - 0s 51ms/step - loss: 0.4649 - accuracy: 0.9081 - val_loss: 0.4593 - val_accuracy: 0.9065\n",
            "Epoch 26/50\n",
            "1/1 [==============================] - 0s 49ms/step - loss: 0.4560 - accuracy: 0.9092 - val_loss: 0.4507 - val_accuracy: 0.9074\n",
            "Epoch 27/50\n",
            "1/1 [==============================] - 0s 51ms/step - loss: 0.4474 - accuracy: 0.9102 - val_loss: 0.4424 - val_accuracy: 0.9082\n",
            "Epoch 28/50\n",
            "1/1 [==============================] - 0s 49ms/step - loss: 0.4391 - accuracy: 0.9110 - val_loss: 0.4343 - val_accuracy: 0.9088\n",
            "Epoch 29/50\n",
            "1/1 [==============================] - 0s 50ms/step - loss: 0.4311 - accuracy: 0.9116 - val_loss: 0.4266 - val_accuracy: 0.9094\n",
            "Epoch 30/50\n",
            "1/1 [==============================] - 0s 50ms/step - loss: 0.4233 - accuracy: 0.9121 - val_loss: 0.4191 - val_accuracy: 0.9099\n",
            "Epoch 31/50\n",
            "1/1 [==============================] - 0s 48ms/step - loss: 0.4158 - accuracy: 0.9126 - val_loss: 0.4119 - val_accuracy: 0.9104\n",
            "Epoch 32/50\n",
            "1/1 [==============================] - 0s 49ms/step - loss: 0.4086 - accuracy: 0.9130 - val_loss: 0.4049 - val_accuracy: 0.9107\n",
            "Epoch 33/50\n",
            "1/1 [==============================] - 0s 59ms/step - loss: 0.4016 - accuracy: 0.9133 - val_loss: 0.3982 - val_accuracy: 0.9111\n",
            "Epoch 34/50\n",
            "1/1 [==============================] - 0s 46ms/step - loss: 0.3949 - accuracy: 0.9136 - val_loss: 0.3918 - val_accuracy: 0.9113\n",
            "Epoch 35/50\n",
            "1/1 [==============================] - 0s 45ms/step - loss: 0.3884 - accuracy: 0.9138 - val_loss: 0.3857 - val_accuracy: 0.9114\n",
            "Epoch 36/50\n",
            "1/1 [==============================] - 0s 40ms/step - loss: 0.3823 - accuracy: 0.9140 - val_loss: 0.3798 - val_accuracy: 0.9115\n",
            "Epoch 37/50\n",
            "1/1 [==============================] - 0s 42ms/step - loss: 0.3764 - accuracy: 0.9143 - val_loss: 0.3742 - val_accuracy: 0.9117\n",
            "Epoch 38/50\n",
            "1/1 [==============================] - 0s 62ms/step - loss: 0.3707 - accuracy: 0.9144 - val_loss: 0.3689 - val_accuracy: 0.9118\n",
            "Epoch 39/50\n",
            "1/1 [==============================] - 0s 42ms/step - loss: 0.3654 - accuracy: 0.9145 - val_loss: 0.3638 - val_accuracy: 0.9118\n",
            "Epoch 40/50\n",
            "1/1 [==============================] - 0s 42ms/step - loss: 0.3602 - accuracy: 0.9145 - val_loss: 0.3589 - val_accuracy: 0.9118\n",
            "Epoch 41/50\n",
            "1/1 [==============================] - 0s 46ms/step - loss: 0.3553 - accuracy: 0.9145 - val_loss: 0.3543 - val_accuracy: 0.9118\n",
            "Epoch 42/50\n",
            "1/1 [==============================] - 0s 44ms/step - loss: 0.3507 - accuracy: 0.9145 - val_loss: 0.3499 - val_accuracy: 0.9118\n",
            "Epoch 43/50\n",
            "1/1 [==============================] - 0s 39ms/step - loss: 0.3462 - accuracy: 0.9145 - val_loss: 0.3458 - val_accuracy: 0.9118\n",
            "Epoch 44/50\n",
            "1/1 [==============================] - 0s 41ms/step - loss: 0.3420 - accuracy: 0.9145 - val_loss: 0.3418 - val_accuracy: 0.9119\n",
            "Epoch 45/50\n",
            "1/1 [==============================] - 0s 40ms/step - loss: 0.3380 - accuracy: 0.9146 - val_loss: 0.3381 - val_accuracy: 0.9119\n",
            "Epoch 46/50\n",
            "1/1 [==============================] - 0s 42ms/step - loss: 0.3342 - accuracy: 0.9146 - val_loss: 0.3345 - val_accuracy: 0.9119\n",
            "Epoch 47/50\n",
            "1/1 [==============================] - 0s 46ms/step - loss: 0.3306 - accuracy: 0.9146 - val_loss: 0.3311 - val_accuracy: 0.9119\n",
            "Epoch 48/50\n",
            "1/1 [==============================] - 0s 41ms/step - loss: 0.3272 - accuracy: 0.9146 - val_loss: 0.3279 - val_accuracy: 0.9119\n",
            "Epoch 49/50\n",
            "1/1 [==============================] - 0s 40ms/step - loss: 0.3239 - accuracy: 0.9146 - val_loss: 0.3249 - val_accuracy: 0.9119\n",
            "Epoch 50/50\n",
            "1/1 [==============================] - 0s 44ms/step - loss: 0.3209 - accuracy: 0.9146 - val_loss: 0.3220 - val_accuracy: 0.9119\n"
          ]
        }
      ],
      "source": [
        "history = model.fit(X_train, y_train, epochs = 50, batch_size = X_train.shape[0], validation_split = 0.2, shuffle = False)"
      ],
      "id": "2648fe04"
    },
    {
      "cell_type": "code",
      "execution_count": null,
      "metadata": {
        "id": "ac6a2ca8",
        "outputId": "dc012509-9437-45d7-df35-40ecc5747cab"
      },
      "outputs": [
        {
          "data": {
            "image/png": "[encoded data removed]",
            "text/plain": [
              "<Figure size 432x288 with 1 Axes>"
            ]
          },
          "metadata": {
            "needs_background": "light"
          },
          "output_type": "display_data"
        }
      ],
      "source": [
        "# Plot training and validation loss scores\n",
        "# against the number of epochs.\n",
        "plt.plot(history.history['loss'], label='Train')\n",
        "plt.plot(history.history['val_loss'], label='Validation')\n",
        "plt.ylabel('Loss')\n",
        "plt.xlabel('Epoch')\n",
        "plt.title('Model Loss')\n",
        "plt.legend(loc='upper right')\n",
        "plt.show()"
      ],
      "id": "ac6a2ca8"
    },
    {
      "cell_type": "code",
      "execution_count": null,
      "metadata": {
        "id": "22ee4866",
        "outputId": "8c622222-9804-43ed-d69b-d06f7dc637da"
      },
      "outputs": [
        {
          "data": {
            "image/png": "[encoded data removed]",
            "text/plain": [
              "<Figure size 432x288 with 1 Axes>"
            ]
          },
          "metadata": {
            "needs_background": "light"
          },
          "output_type": "display_data"
        }
      ],
      "source": [
        "# training and validation accuracy scores against the number of epochs\n",
        "plt.plot(history.history['accuracy'], label='Train')\n",
        "plt.plot(history.history['val_accuracy'], label='Validation')\n",
        "plt.ylabel('Accuracy')\n",
        "plt.xlabel('Epoch')\n",
        "plt.title('Model Accuracy')\n",
        "plt.legend(loc='upper left')\n",
        "plt.show()"
      ],
      "id": "22ee4866"
    },
    {
      "cell_type": "code",
      "execution_count": null,
      "metadata": {
        "id": "JlRyy5Gdil5y",
        "outputId": "ea3fe913-6b39-4d65-f872-6aa6e8e067d6"
      },
      "outputs": [
        {
          "name": "stdout",
          "output_type": "stream",
          "text": [
            "7995/7995 [==============================] - 3s 357us/step - loss: 0.3187 - accuracy: 0.9141\n",
            "Train accuracy using GD is 0.9140543342\n"
          ]
        }
      ],
      "source": [
        "loss, acc = model.evaluate(X_train, y_train)\n",
        "print(f\"Train accuracy using GD is {acc:.10f}\")"
      ],
      "id": "JlRyy5Gdil5y"
    },
    {
      "cell_type": "code",
      "execution_count": null,
      "metadata": {
        "id": "0ef7dd14",
        "outputId": "3a30a15a-27e1-42cb-acfa-965c29389ca1",
        "scrolled": true
      },
      "outputs": [
        {
          "name": "stdout",
          "output_type": "stream",
          "text": [
            "1999/1999 [==============================] - 1s 338us/step - loss: 0.3166 - accuracy: 0.9158\n",
            "Test accuracy using GD is 0.9157741666\n"
          ]
        }
      ],
      "source": [
        "loss, acc = model.evaluate(X_test, y_test)\n",
        "print(f\"Test accuracy using GD is {acc:.10f}\")"
      ],
      "id": "0ef7dd14"
    },
    {
      "cell_type": "markdown",
      "metadata": {
        "id": "tM7orEPVil5z"
      },
      "source": [
        "#### Observations : \n",
        "Train Accuracy is 91.40 %\n",
        "|| Test Accuracy is 91.57 %\n",
        "|| Slighly Overfit!"
      ],
      "id": "tM7orEPVil5z"
    },
    {
      "cell_type": "markdown",
      "metadata": {
        "id": "bnzucjfKil5z"
      },
      "source": [
        "##### References : https://towardsdatascience.com/replicate-a-logistic-regression-model-as-an-artificial-neural-network-in-keras-cd6f49cf4b2c"
      ],
      "id": "bnzucjfKil5z"
    },
    {
      "cell_type": "markdown",
      "metadata": {
        "id": "417a53ac"
      },
      "source": [
        "# Implementing Stochastic Gradient Descent\n",
        "\n",
        "Basic idea: **in gradient descent, just replace the full gradient (which is a sum) with a single gradient example**. Initialize the parameters at some value $w_0 \\in R^d$, and decrease the value of the empirical risk iteratively by sampling a random index $\\tilde i_t$ uniformly from $\\{1, \\ldots, n\\}$ and then updating\n",
        "\n",
        "$w_{t+1} = w_t - \\alpha_t \\cdot \\nabla L_{\\tilde i_t}(w_t)$\n",
        "\n",
        "where as usual $w_t$ is the value of the parameter vector at time $t$, $\\alpha_t$ is the _learning rate_ or _step size_, and $\\nabla f_i$ denotes the gradient of the loss function of the $i$th training example.\n",
        "Compared with gradient descent and Newton's method, SGD is simple to implement and runs each iteration faster.\n",
        "\n",
        "##### References : https://www.deeplearningbook.org/contents/optimization.html"
      ],
      "id": "417a53ac"
    },
    {
      "cell_type": "code",
      "execution_count": null,
      "metadata": {
        "id": "ac9bd98f"
      },
      "outputs": [],
      "source": [
        "model1 = keras.models.Sequential()\n",
        "\n",
        "model1.add(layers.Dense(units=12, activation='relu', input_dim=X_train.shape[1]))\n",
        "\n",
        "model1.add(layers.Dense(units=8, activation='relu'))\n",
        "\n",
        "model1.add(layers.Dense(units=1, activation='sigmoid', name = 'output'))"
      ],
      "id": "ac9bd98f"
    },
    {
      "cell_type": "code",
      "execution_count": null,
      "metadata": {
        "id": "5e921b7a"
      },
      "outputs": [],
      "source": [
        "opt=tf.keras.optimizers.SGD(learning_rate=0.05)\n",
        "\n",
        "model1.compile(optimizer = opt,\n",
        "             loss = 'binary_crossentropy',\n",
        "             metrics =['accuracy'])"
      ],
      "id": "5e921b7a"
    },
    {
      "cell_type": "code",
      "execution_count": null,
      "metadata": {
        "id": "8d844851",
        "outputId": "431deffb-9d68-47d3-8af5-54d2c4e8e555"
      },
      "outputs": [
        {
          "name": "stdout",
          "output_type": "stream",
          "text": [
            "Epoch 1/20\n",
            "204668/204668 [==============================] - 98s 477us/step - loss: 0.2377 - accuracy: 0.9143 - val_loss: 0.2430 - val_accuracy: 0.9119\n",
            "Epoch 2/20\n",
            "204668/204668 [==============================] - 97s 476us/step - loss: 0.2360 - accuracy: 0.9147 - val_loss: 0.2385 - val_accuracy: 0.9132\n",
            "Epoch 3/20\n",
            "204668/204668 [==============================] - 96s 471us/step - loss: 0.2361 - accuracy: 0.9151 - val_loss: 0.2357 - val_accuracy: 0.9131\n",
            "Epoch 4/20\n",
            "204668/204668 [==============================] - 98s 478us/step - loss: 0.2362 - accuracy: 0.9147 - val_loss: 0.2387 - val_accuracy: 0.9119\n",
            "Epoch 5/20\n",
            "204668/204668 [==============================] - 99s 483us/step - loss: 0.2359 - accuracy: 0.9150 - val_loss: 0.2387 - val_accuracy: 0.9121\n",
            "Epoch 6/20\n",
            "204668/204668 [==============================] - 98s 478us/step - loss: 0.2361 - accuracy: 0.9147 - val_loss: 0.2427 - val_accuracy: 0.9131\n",
            "Epoch 7/20\n",
            "204668/204668 [==============================] - 97s 472us/step - loss: 0.2362 - accuracy: 0.9146 - val_loss: 0.2381 - val_accuracy: 0.9122\n",
            "Epoch 8/20\n",
            "204668/204668 [==============================] - 97s 475us/step - loss: 0.2364 - accuracy: 0.9149 - val_loss: 0.2419 - val_accuracy: 0.9122\n",
            "Epoch 9/20\n",
            "204668/204668 [==============================] - 98s 479us/step - loss: 0.2365 - accuracy: 0.9150 - val_loss: 0.2380 - val_accuracy: 0.9124\n",
            "Epoch 10/20\n",
            "204668/204668 [==============================] - 98s 480us/step - loss: 0.2363 - accuracy: 0.9150 - val_loss: 0.2400 - val_accuracy: 0.9131\n",
            "Epoch 11/20\n",
            "204668/204668 [==============================] - 100s 491us/step - loss: 0.2360 - accuracy: 0.9148 - val_loss: 0.2377 - val_accuracy: 0.9124\n",
            "Epoch 12/20\n",
            "204668/204668 [==============================] - 98s 480us/step - loss: 0.2366 - accuracy: 0.9152 - val_loss: 0.2430 - val_accuracy: 0.9120\n",
            "Epoch 13/20\n",
            "204668/204668 [==============================] - 97s 476us/step - loss: 0.2370 - accuracy: 0.9150 - val_loss: 0.2438 - val_accuracy: 0.9102\n",
            "Epoch 14/20\n",
            "204668/204668 [==============================] - 100s 489us/step - loss: 0.2368 - accuracy: 0.9149 - val_loss: 0.2405 - val_accuracy: 0.9123\n",
            "Epoch 15/20\n",
            "204668/204668 [==============================] - 99s 485us/step - loss: 0.2366 - accuracy: 0.9148 - val_loss: 0.2389 - val_accuracy: 0.9126\n",
            "Epoch 16/20\n",
            "204668/204668 [==============================] - 98s 478us/step - loss: 0.2369 - accuracy: 0.9149 - val_loss: 0.2369 - val_accuracy: 0.9122\n",
            "Epoch 17/20\n",
            "204668/204668 [==============================] - 105s 515us/step - loss: 0.2367 - accuracy: 0.9150 - val_loss: 0.2404 - val_accuracy: 0.9119\n",
            "Epoch 18/20\n",
            "204668/204668 [==============================] - 98s 480us/step - loss: 0.2372 - accuracy: 0.9149 - val_loss: 0.2408 - val_accuracy: 0.9125\n",
            "Epoch 19/20\n",
            "204668/204668 [==============================] - 102s 496us/step - loss: 0.2370 - accuracy: 0.9146 - val_loss: 0.2427 - val_accuracy: 0.9119\n",
            "Epoch 20/20\n",
            "204668/204668 [==============================] - 97s 474us/step - loss: 0.2375 - accuracy: 0.9146 - val_loss: 0.2378 - val_accuracy: 0.9119\n"
          ]
        }
      ],
      "source": [
        "history1 = model1.fit(X_train, y_train, \n",
        "                        epochs=20, batch_size=1,\n",
        "                        validation_split=0.2, \n",
        "                        shuffle=True)"
      ],
      "id": "8d844851"
    },
    {
      "cell_type": "code",
      "execution_count": null,
      "metadata": {
        "id": "8e726be6",
        "outputId": "ede1b235-127b-4335-fc25-dadead3bbd6a"
      },
      "outputs": [
        {
          "data": {
            "image/png": "[encoded data removed]",
            "text/plain": [
              "<Figure size 432x288 with 1 Axes>"
            ]
          },
          "metadata": {
            "needs_background": "light"
          },
          "output_type": "display_data"
        }
      ],
      "source": [
        "# Plot training and validation loss scores\n",
        "# against the number of epochs.\n",
        "plt.plot(history1.history['loss'], label='Train')\n",
        "plt.plot(history1.history['val_loss'], label='Validation')\n",
        "plt.ylabel('Loss')\n",
        "plt.xlabel('Epoch')\n",
        "plt.title('Model Loss')\n",
        "plt.legend(loc='upper right')\n",
        "plt.show()"
      ],
      "id": "8e726be6"
    },
    {
      "cell_type": "code",
      "execution_count": null,
      "metadata": {
        "id": "aILXUtNLil51",
        "outputId": "4c9ca057-b720-4888-c179-fbf47082ec2b"
      },
      "outputs": [
        {
          "data": {
            "image/png": "[encoded data removed]",
            "text/plain": [
              "<Figure size 432x288 with 1 Axes>"
            ]
          },
          "metadata": {
            "needs_background": "light"
          },
          "output_type": "display_data"
        }
      ],
      "source": [
        "# Plot training and validation accuracy scores\n",
        "# against the number of epochs.\n",
        "plt.plot(history1.history['accuracy'], label='Train')\n",
        "plt.plot(history1.history['val_accuracy'], label='Validation')\n",
        "plt.ylabel('Accuracy')\n",
        "plt.xlabel('Epoch')\n",
        "plt.title('Model Accuracy')\n",
        "plt.legend(loc='upper left')\n",
        "plt.ylim(0.9,0.92)\n",
        "plt.show()"
      ],
      "id": "aILXUtNLil51"
    },
    {
      "cell_type": "code",
      "execution_count": null,
      "metadata": {
        "id": "d17d6e3d",
        "outputId": "549233ae-273f-4095-b0fa-95083457daab"
      },
      "outputs": [
        {
          "name": "stdout",
          "output_type": "stream",
          "text": [
            "7995/7995 [==============================] - 4s 484us/step - loss: 0.2345 - accuracy: 0.9141\n",
            "Train accuracy using SGD is 0.9141\n"
          ]
        }
      ],
      "source": [
        "loss, acc = model1.evaluate(X_train, y_train)\n",
        "print(f\"Train accuracy using SGD is {acc:.4f}\")"
      ],
      "id": "d17d6e3d"
    },
    {
      "cell_type": "code",
      "execution_count": null,
      "metadata": {
        "id": "Kor5W2kLil52",
        "outputId": "c797598b-0312-4400-abfc-5597da345f9e"
      },
      "outputs": [
        {
          "name": "stdout",
          "output_type": "stream",
          "text": [
            "1999/1999 [==============================] - 1s 468us/step - loss: 0.2334 - accuracy: 0.9158\n",
            "Test accuracy using SGD is 0.9158\n"
          ]
        }
      ],
      "source": [
        "loss, acc = model1.evaluate(X_test, y_test)\n",
        "print(f\"Test accuracy using SGD is {acc:.4f}\")"
      ],
      "id": "Kor5W2kLil52"
    },
    {
      "cell_type": "markdown",
      "metadata": {
        "id": "hohPBHH3il52"
      },
      "source": [
        "##### Observations : Slightly Overfit!"
      ],
      "id": "hohPBHH3il52"
    },
    {
      "cell_type": "markdown",
      "metadata": {
        "id": "Diw0Rspfil52"
      },
      "source": [
        "##### References : https://towardsdatascience.com/replicate-a-logistic-regression-model-as-an-artificial-neural-network-in-keras-cd6f49cf4b2c"
      ],
      "id": "Diw0Rspfil52"
    },
    {
      "cell_type": "markdown",
      "metadata": {
        "id": "76b7d894"
      },
      "source": [
        "# Mini batch GD (optimier - Adam)\n",
        "\n",
        "**Algorithm Adam**\n",
        "\n",
        "*Input:* global learning rate factor $\\alpha$, decay rates $\\rho_1$ and $\\rho_2$, initial parameters $w \\in R^d$.\n",
        "\n",
        "* Initialize $r \\leftarrow 0 \\in R^d$\n",
        "* Initialize timestep $t \\leftarrow 0$\n",
        "\n",
        "* **loop**\n",
        "  * update timestep $t \\leftarrow t + 1$\n",
        "  * select a minibatch $\\mathcal{B}$ of size $B$\n",
        "  * compute the stochastic gradient $g \\leftarrow \\frac{1}{B} \\sum_{i \\in \\mathcal{B}} \\nabla f_i(w)$\n",
        "  * accumulate first moment estimate $s_j \\leftarrow \\rho_1 s_j + (1 - \\rho_1) g_j$ for all $j \\in \\{1, \\ldots, d \\}$\n",
        "  * accumulate second moment estimate $r_j \\leftarrow \\rho_2 r_j + (1 - \\rho_2) g_j^2$ for all $j \\in \\{1, \\ldots, d \\}$\n",
        "  * correct first moment bias $\\hat s \\leftarrow \\frac{s}{1 - \\rho_1^t}$ \n",
        "  * correct second moment bias $\\hat r \\leftarrow \\frac{r}{1 - \\rho_2^t}$\n",
        "  * update model $w_j \\rightarrow w_j - \\frac{\\alpha}{\\sqrt{\\hat r_j}} \\cdot \\hat s_j$ for all $j \\in \\{1, \\ldots, d \\}$\n",
        "\n",
        "##### References : https://www.deeplearningbook.org/contents/optimization.html"
      ],
      "id": "76b7d894"
    },
    {
      "cell_type": "code",
      "execution_count": null,
      "metadata": {
        "id": "8d1451b7"
      },
      "outputs": [],
      "source": [
        "model2 = Sequential()\n",
        "# Add the input layer and first hidden layer\n",
        "model2.add(layers.Dense(units=12, activation='relu', input_dim=X_train.shape[1]))\n",
        "# Add the second hidden layer\n",
        "model2.add(layers.Dense(units=8, activation='relu'))\n",
        "# Add the output layer\n",
        "model2.add(layers.Dense(units=1, activation='sigmoid', name = 'output'))"
      ],
      "id": "8d1451b7"
    },
    {
      "cell_type": "code",
      "execution_count": null,
      "metadata": {
        "id": "9c38f131"
      },
      "outputs": [],
      "source": [
        "model2.compile(optimizer = 'adam',\n",
        "             loss = 'binary_crossentropy',\n",
        "             metrics =['accuracy'])"
      ],
      "id": "9c38f131"
    },
    {
      "cell_type": "code",
      "execution_count": null,
      "metadata": {
        "id": "083ec984",
        "outputId": "f1c5449f-2f37-431f-d038-d3235aae2d10"
      },
      "outputs": [
        {
          "name": "stdout",
          "output_type": "stream",
          "text": [
            "Epoch 1/50\n",
            "3198/3198 [==============================] - 3s 810us/step - loss: 0.2442 - accuracy: 0.9144 - val_loss: 0.2347 - val_accuracy: 0.9119\n",
            "Epoch 2/50\n",
            "3198/3198 [==============================] - 2s 777us/step - loss: 0.2295 - accuracy: 0.9148 - val_loss: 0.2335 - val_accuracy: 0.9125\n",
            "Epoch 3/50\n",
            "3198/3198 [==============================] - 3s 783us/step - loss: 0.2287 - accuracy: 0.9154 - val_loss: 0.2330 - val_accuracy: 0.9128\n",
            "Epoch 4/50\n",
            "3198/3198 [==============================] - 2s 762us/step - loss: 0.2281 - accuracy: 0.9161 - val_loss: 0.2327 - val_accuracy: 0.9128\n",
            "Epoch 5/50\n",
            "3198/3198 [==============================] - 2s 779us/step - loss: 0.2278 - accuracy: 0.9161 - val_loss: 0.2326 - val_accuracy: 0.9129\n",
            "Epoch 6/50\n",
            "3198/3198 [==============================] - 3s 793us/step - loss: 0.2276 - accuracy: 0.9163 - val_loss: 0.2325 - val_accuracy: 0.9128\n",
            "Epoch 7/50\n",
            "3198/3198 [==============================] - 2s 776us/step - loss: 0.2274 - accuracy: 0.9163 - val_loss: 0.2324 - val_accuracy: 0.9128\n",
            "Epoch 8/50\n",
            "3198/3198 [==============================] - 2s 781us/step - loss: 0.2272 - accuracy: 0.9162 - val_loss: 0.2324 - val_accuracy: 0.9129\n",
            "Epoch 9/50\n",
            "3198/3198 [==============================] - 3s 790us/step - loss: 0.2271 - accuracy: 0.9162 - val_loss: 0.2324 - val_accuracy: 0.9131\n",
            "Epoch 10/50\n",
            "3198/3198 [==============================] - 2s 776us/step - loss: 0.2270 - accuracy: 0.9163 - val_loss: 0.2324 - val_accuracy: 0.9130\n",
            "Epoch 11/50\n",
            "3198/3198 [==============================] - 3s 795us/step - loss: 0.2269 - accuracy: 0.9162 - val_loss: 0.2324 - val_accuracy: 0.9130\n",
            "Epoch 12/50\n",
            "3198/3198 [==============================] - 3s 784us/step - loss: 0.2269 - accuracy: 0.9163 - val_loss: 0.2324 - val_accuracy: 0.9131\n",
            "Epoch 13/50\n",
            "3198/3198 [==============================] - 3s 788us/step - loss: 0.2268 - accuracy: 0.9163 - val_loss: 0.2324 - val_accuracy: 0.9130\n",
            "Epoch 14/50\n",
            "3198/3198 [==============================] - 3s 785us/step - loss: 0.2267 - accuracy: 0.9163 - val_loss: 0.2325 - val_accuracy: 0.9130\n",
            "Epoch 15/50\n",
            "3198/3198 [==============================] - 2s 781us/step - loss: 0.2267 - accuracy: 0.9163 - val_loss: 0.2325 - val_accuracy: 0.9131\n",
            "Epoch 16/50\n",
            "3198/3198 [==============================] - 3s 786us/step - loss: 0.2266 - accuracy: 0.9164 - val_loss: 0.2325 - val_accuracy: 0.9133\n",
            "Epoch 17/50\n",
            "3198/3198 [==============================] - 3s 785us/step - loss: 0.2266 - accuracy: 0.9164 - val_loss: 0.2325 - val_accuracy: 0.9132\n",
            "Epoch 18/50\n",
            "3198/3198 [==============================] - 3s 788us/step - loss: 0.2266 - accuracy: 0.9164 - val_loss: 0.2325 - val_accuracy: 0.9132\n",
            "Epoch 19/50\n",
            "3198/3198 [==============================] - 3s 792us/step - loss: 0.2266 - accuracy: 0.9164 - val_loss: 0.2325 - val_accuracy: 0.9131\n",
            "Epoch 20/50\n",
            "3198/3198 [==============================] - 2s 777us/step - loss: 0.2266 - accuracy: 0.9164 - val_loss: 0.2325 - val_accuracy: 0.9130\n",
            "Epoch 21/50\n",
            "3198/3198 [==============================] - 3s 785us/step - loss: 0.2265 - accuracy: 0.9163 - val_loss: 0.2326 - val_accuracy: 0.9129\n",
            "Epoch 22/50\n",
            "3198/3198 [==============================] - 2s 776us/step - loss: 0.2265 - accuracy: 0.9163 - val_loss: 0.2325 - val_accuracy: 0.9130\n",
            "Epoch 23/50\n",
            "3198/3198 [==============================] - 2s 781us/step - loss: 0.2265 - accuracy: 0.9163 - val_loss: 0.2325 - val_accuracy: 0.9129\n",
            "Epoch 24/50\n",
            "3198/3198 [==============================] - 3s 788us/step - loss: 0.2265 - accuracy: 0.9162 - val_loss: 0.2325 - val_accuracy: 0.9129\n",
            "Epoch 25/50\n",
            "3198/3198 [==============================] - 2s 780us/step - loss: 0.2265 - accuracy: 0.9163 - val_loss: 0.2326 - val_accuracy: 0.9129\n",
            "Epoch 26/50\n",
            "3198/3198 [==============================] - 2s 779us/step - loss: 0.2265 - accuracy: 0.9163 - val_loss: 0.2325 - val_accuracy: 0.9130\n",
            "Epoch 27/50\n",
            "3198/3198 [==============================] - 2s 768us/step - loss: 0.2265 - accuracy: 0.9164 - val_loss: 0.2325 - val_accuracy: 0.9130\n",
            "Epoch 28/50\n",
            "3198/3198 [==============================] - 2s 777us/step - loss: 0.2265 - accuracy: 0.9163 - val_loss: 0.2325 - val_accuracy: 0.9130\n",
            "Epoch 29/50\n",
            "3198/3198 [==============================] - 2s 776us/step - loss: 0.2265 - accuracy: 0.9164 - val_loss: 0.2325 - val_accuracy: 0.9130\n",
            "Epoch 30/50\n",
            "3198/3198 [==============================] - 3s 785us/step - loss: 0.2264 - accuracy: 0.9164 - val_loss: 0.2325 - val_accuracy: 0.9130\n",
            "Epoch 31/50\n",
            "3198/3198 [==============================] - 3s 792us/step - loss: 0.2264 - accuracy: 0.9164 - val_loss: 0.2325 - val_accuracy: 0.9131\n",
            "Epoch 32/50\n",
            "3198/3198 [==============================] - 3s 783us/step - loss: 0.2264 - accuracy: 0.9164 - val_loss: 0.2325 - val_accuracy: 0.9130\n",
            "Epoch 33/50\n",
            "3198/3198 [==============================] - 2s 769us/step - loss: 0.2264 - accuracy: 0.9165 - val_loss: 0.2325 - val_accuracy: 0.9130\n",
            "Epoch 34/50\n",
            "3198/3198 [==============================] - 3s 790us/step - loss: 0.2264 - accuracy: 0.9165 - val_loss: 0.2325 - val_accuracy: 0.9130\n",
            "Epoch 35/50\n",
            "3198/3198 [==============================] - 2s 781us/step - loss: 0.2264 - accuracy: 0.9165 - val_loss: 0.2326 - val_accuracy: 0.9131\n",
            "Epoch 36/50\n",
            "3198/3198 [==============================] - 2s 773us/step - loss: 0.2264 - accuracy: 0.9165 - val_loss: 0.2326 - val_accuracy: 0.9130\n",
            "Epoch 37/50\n",
            "3198/3198 [==============================] - 3s 782us/step - loss: 0.2264 - accuracy: 0.9165 - val_loss: 0.2326 - val_accuracy: 0.9129\n",
            "Epoch 38/50\n",
            "3198/3198 [==============================] - 2s 779us/step - loss: 0.2264 - accuracy: 0.9164 - val_loss: 0.2326 - val_accuracy: 0.9129\n",
            "Epoch 39/50\n",
            "3198/3198 [==============================] - 2s 775us/step - loss: 0.2263 - accuracy: 0.9164 - val_loss: 0.2326 - val_accuracy: 0.9130\n",
            "Epoch 40/50\n",
            "3198/3198 [==============================] - 2s 779us/step - loss: 0.2263 - accuracy: 0.9165 - val_loss: 0.2326 - val_accuracy: 0.9129\n",
            "Epoch 41/50\n",
            "3198/3198 [==============================] - 2s 779us/step - loss: 0.2263 - accuracy: 0.9165 - val_loss: 0.2326 - val_accuracy: 0.9131\n",
            "Epoch 42/50\n",
            "3198/3198 [==============================] - 2s 779us/step - loss: 0.2263 - accuracy: 0.9165 - val_loss: 0.2326 - val_accuracy: 0.9130\n",
            "Epoch 43/50\n",
            "3198/3198 [==============================] - 2s 774us/step - loss: 0.2263 - accuracy: 0.9165 - val_loss: 0.2326 - val_accuracy: 0.9130\n",
            "Epoch 44/50\n",
            "3198/3198 [==============================] - 3s 786us/step - loss: 0.2263 - accuracy: 0.9165 - val_loss: 0.2326 - val_accuracy: 0.9131\n",
            "Epoch 45/50\n",
            "3198/3198 [==============================] - 2s 780us/step - loss: 0.2263 - accuracy: 0.9165 - val_loss: 0.2326 - val_accuracy: 0.9131\n",
            "Epoch 46/50\n",
            "3198/3198 [==============================] - 2s 777us/step - loss: 0.2263 - accuracy: 0.9165 - val_loss: 0.2326 - val_accuracy: 0.9131\n",
            "Epoch 47/50\n",
            "3198/3198 [==============================] - 2s 779us/step - loss: 0.2263 - accuracy: 0.9165 - val_loss: 0.2326 - val_accuracy: 0.9131\n",
            "Epoch 48/50\n",
            "3198/3198 [==============================] - 2s 779us/step - loss: 0.2263 - accuracy: 0.9165 - val_loss: 0.2326 - val_accuracy: 0.9131\n",
            "Epoch 49/50\n",
            "3198/3198 [==============================] - 3s 788us/step - loss: 0.2263 - accuracy: 0.9165 - val_loss: 0.2326 - val_accuracy: 0.9131\n",
            "Epoch 50/50\n",
            "3198/3198 [==============================] - 2s 772us/step - loss: 0.2263 - accuracy: 0.9165 - val_loss: 0.2326 - val_accuracy: 0.9131\n"
          ]
        }
      ],
      "source": [
        "history2 = model2.fit(X_train, y_train, \n",
        "                        epochs=50, batch_size=64,\n",
        "                        validation_split=0.2, \n",
        "                        shuffle=False)"
      ],
      "id": "083ec984"
    },
    {
      "cell_type": "code",
      "execution_count": null,
      "metadata": {
        "id": "bfde95e4",
        "outputId": "d70bf6d5-020f-40c8-e40f-65250eb8353f"
      },
      "outputs": [
        {
          "data": {
            "image/png": "[encoded data removed]",
            "text/plain": [
              "<Figure size 432x288 with 1 Axes>"
            ]
          },
          "metadata": {
            "needs_background": "light"
          },
          "output_type": "display_data"
        }
      ],
      "source": [
        "# Plot training and validation loss scores\n",
        "# against the number of epochs.\n",
        "plt.plot(history2.history['loss'], label='Train')\n",
        "plt.plot(history2.history['val_loss'], label='Validation')\n",
        "plt.ylabel('Loss')\n",
        "plt.xlabel('Epoch')\n",
        "plt.title('Model Loss')\n",
        "plt.legend(loc='upper right')\n",
        "plt.ylim(0.20,0.25)\n",
        "plt.show()"
      ],
      "id": "bfde95e4"
    },
    {
      "cell_type": "code",
      "execution_count": null,
      "metadata": {
        "id": "2edf9229",
        "outputId": "f64a38e9-26b9-4c61-e927-1f500c74b5cc"
      },
      "outputs": [
        {
          "data": {
            "image/png": "[encoded data removed]",
            "text/plain": [
              "<Figure size 432x288 with 1 Axes>"
            ]
          },
          "metadata": {
            "needs_background": "light"
          },
          "output_type": "display_data"
        }
      ],
      "source": [
        "# Plot training and validation accuracy scores\n",
        "# against the number of epochs.\n",
        "plt.plot(history2.history['accuracy'], label='Train')\n",
        "plt.plot(history2.history['val_accuracy'], label='Validation')\n",
        "plt.ylabel('Accuracy')\n",
        "plt.xlabel('Epoch')\n",
        "plt.title('Model Accuracy')\n",
        "plt.legend(loc='upper left')\n",
        "plt.ylim(0.90,0.99)\n",
        "plt.show()"
      ],
      "id": "2edf9229"
    },
    {
      "cell_type": "code",
      "execution_count": null,
      "metadata": {
        "id": "f966256c",
        "outputId": "5edb91aa-dbf7-42d5-9118-8041d50812f9"
      },
      "outputs": [
        {
          "name": "stdout",
          "output_type": "stream",
          "text": [
            "7995/7995 [==============================] - 3s 325us/step - loss: 0.2270 - accuracy: 0.9158\n",
            "Train accuracy using Mini Batch GD (Optimizer - Adam) is 0.9158\n"
          ]
        }
      ],
      "source": [
        "loss, acc = model2.evaluate(X_train, y_train)\n",
        "print(f\"Train accuracy using Mini Batch GD (Optimizer - Adam) is {acc:.4f}\")"
      ],
      "id": "f966256c"
    },
    {
      "cell_type": "code",
      "execution_count": null,
      "metadata": {
        "id": "JYeP25lXil55",
        "outputId": "f7eb4c06-4531-45e2-c3ca-cc8e45bf666f"
      },
      "outputs": [
        {
          "name": "stdout",
          "output_type": "stream",
          "text": [
            "1999/1999 [==============================] - 1s 336us/step - loss: 0.2276 - accuracy: 0.9173\n",
            "Test accuracy using Mini Batch GD (Optimizer - Adam) is 0.9173\n"
          ]
        }
      ],
      "source": [
        "loss, acc = model2.evaluate(X_test, y_test)\n",
        "print(f\"Test accuracy using Mini Batch GD (Optimizer - Adam) is {acc:.4f}\")"
      ],
      "id": "JYeP25lXil55"
    },
    {
      "cell_type": "markdown",
      "metadata": {
        "id": "unvpflwhil55"
      },
      "source": [
        "##### Observations : Accuracy and loss remians same more or less throughout!"
      ],
      "id": "unvpflwhil55"
    },
    {
      "cell_type": "markdown",
      "metadata": {
        "id": "51f2db7f"
      },
      "source": [
        "# Mini batch GD (optimizer - Adagrad)\n",
        "\n",
        "**Algorithm AdaGrad**\n",
        "\n",
        "*Input:* global learning rate factor $\\alpha$, initial parameters $w \\in R^d$.\n",
        "\n",
        "* Initialize $r \\leftarrow 0 \\in R^d$\n",
        "\n",
        "* **loop**\n",
        "  * select a minibatch $\\mathcal{B}$ of size $B$\n",
        "  * compute the stochastic gradient $g \\leftarrow \\frac{1}{B} \\sum_{i \\in \\mathcal{B}} \\nabla f_i(w)$\n",
        "  * accumulate second moment estimate $r_j \\leftarrow r_j + g_j^2$ for all $j \\in \\{1, \\ldots, d \\}$\n",
        "  * update model $w_j \\leftarrow w_j - \\frac{\\alpha}{\\sqrt{r_j}} \\cdot g_j$ for all $j \\in \\{1, \\ldots, d \\}$\n",
        "  \n",
        "##### References : https://www.deeplearningbook.org/contents/optimization.html  "
      ],
      "id": "51f2db7f"
    },
    {
      "cell_type": "code",
      "execution_count": null,
      "metadata": {
        "id": "c202e428"
      },
      "outputs": [],
      "source": [
        "model3 = Sequential()\n",
        "# Add the input layer and first hidden layer\n",
        "model3.add(layers.Dense(units=12, activation='relu', input_dim=X_train.shape[1]))\n",
        "# Add the second hidden layer\n",
        "model3.add(layers.Dense(units=8, activation='relu'))\n",
        "# Add the output layer\n",
        "model3.add(layers.Dense(units=1, activation='sigmoid', name = 'output'))"
      ],
      "id": "c202e428"
    },
    {
      "cell_type": "code",
      "execution_count": null,
      "metadata": {
        "id": "a27264d2"
      },
      "outputs": [],
      "source": [
        "model3.compile(optimizer = 'adagrad',\n",
        "             loss = 'binary_crossentropy',\n",
        "             metrics =['accuracy'])"
      ],
      "id": "a27264d2"
    },
    {
      "cell_type": "code",
      "execution_count": null,
      "metadata": {
        "id": "f7da0ef8",
        "outputId": "e541c015-9576-4832-cbee-53275b3b3434"
      },
      "outputs": [
        {
          "name": "stdout",
          "output_type": "stream",
          "text": [
            "Epoch 1/100\n",
            "3198/3198 [==============================] - 2s 625us/step - loss: 0.2259 - accuracy: 0.9162 - val_loss: 0.2325 - val_accuracy: 0.9129\n",
            "Epoch 2/100\n",
            "3198/3198 [==============================] - 2s 634us/step - loss: 0.2259 - accuracy: 0.9161 - val_loss: 0.2325 - val_accuracy: 0.9128\n",
            "Epoch 3/100\n",
            "3198/3198 [==============================] - 2s 623us/step - loss: 0.2258 - accuracy: 0.9161 - val_loss: 0.2325 - val_accuracy: 0.9129\n",
            "Epoch 4/100\n",
            "3198/3198 [==============================] - 2s 624us/step - loss: 0.2258 - accuracy: 0.9161 - val_loss: 0.2325 - val_accuracy: 0.9129\n",
            "Epoch 5/100\n",
            "3198/3198 [==============================] - 2s 630us/step - loss: 0.2258 - accuracy: 0.9161 - val_loss: 0.2325 - val_accuracy: 0.9129\n",
            "Epoch 6/100\n",
            "3198/3198 [==============================] - 2s 630us/step - loss: 0.2258 - accuracy: 0.9162 - val_loss: 0.2325 - val_accuracy: 0.9128\n",
            "Epoch 7/100\n",
            "3198/3198 [==============================] - 2s 617us/step - loss: 0.2258 - accuracy: 0.9161 - val_loss: 0.2325 - val_accuracy: 0.9128\n",
            "Epoch 8/100\n",
            "3198/3198 [==============================] - 2s 621us/step - loss: 0.2258 - accuracy: 0.9161 - val_loss: 0.2325 - val_accuracy: 0.9128\n",
            "Epoch 9/100\n",
            "3198/3198 [==============================] - 2s 633us/step - loss: 0.2258 - accuracy: 0.9162 - val_loss: 0.2325 - val_accuracy: 0.9129\n",
            "Epoch 10/100\n",
            "3198/3198 [==============================] - 2s 629us/step - loss: 0.2258 - accuracy: 0.9162 - val_loss: 0.2325 - val_accuracy: 0.9128\n",
            "Epoch 11/100\n",
            "3198/3198 [==============================] - 2s 614us/step - loss: 0.2258 - accuracy: 0.9162 - val_loss: 0.2325 - val_accuracy: 0.9128\n",
            "Epoch 12/100\n",
            "3198/3198 [==============================] - 2s 634us/step - loss: 0.2258 - accuracy: 0.9162 - val_loss: 0.2325 - val_accuracy: 0.9129\n",
            "Epoch 13/100\n",
            "3198/3198 [==============================] - 2s 619us/step - loss: 0.2258 - accuracy: 0.9162 - val_loss: 0.2325 - val_accuracy: 0.9129\n",
            "Epoch 14/100\n",
            "3198/3198 [==============================] - 2s 627us/step - loss: 0.2258 - accuracy: 0.9162 - val_loss: 0.2325 - val_accuracy: 0.9129\n",
            "Epoch 15/100\n",
            "3198/3198 [==============================] - 2s 643us/step - loss: 0.2258 - accuracy: 0.9161 - val_loss: 0.2325 - val_accuracy: 0.9129\n",
            "Epoch 16/100\n",
            "3198/3198 [==============================] - 2s 625us/step - loss: 0.2258 - accuracy: 0.9161 - val_loss: 0.2325 - val_accuracy: 0.9128\n",
            "Epoch 17/100\n",
            "3198/3198 [==============================] - 2s 633us/step - loss: 0.2258 - accuracy: 0.9162 - val_loss: 0.2325 - val_accuracy: 0.9128\n",
            "Epoch 18/100\n",
            "3198/3198 [==============================] - 2s 627us/step - loss: 0.2258 - accuracy: 0.9161 - val_loss: 0.2325 - val_accuracy: 0.9128\n",
            "Epoch 19/100\n",
            "3198/3198 [==============================] - 2s 629us/step - loss: 0.2258 - accuracy: 0.9161 - val_loss: 0.2325 - val_accuracy: 0.9128\n",
            "Epoch 20/100\n",
            "3198/3198 [==============================] - 2s 628us/step - loss: 0.2258 - accuracy: 0.9162 - val_loss: 0.2325 - val_accuracy: 0.9128\n",
            "Epoch 21/100\n",
            "3198/3198 [==============================] - 2s 627us/step - loss: 0.2258 - accuracy: 0.9162 - val_loss: 0.2325 - val_accuracy: 0.9127\n",
            "Epoch 22/100\n",
            "3198/3198 [==============================] - 2s 624us/step - loss: 0.2258 - accuracy: 0.9162 - val_loss: 0.2325 - val_accuracy: 0.9128\n",
            "Epoch 23/100\n",
            "3198/3198 [==============================] - 2s 622us/step - loss: 0.2258 - accuracy: 0.9161 - val_loss: 0.2325 - val_accuracy: 0.9128\n",
            "Epoch 24/100\n",
            "3198/3198 [==============================] - 2s 622us/step - loss: 0.2258 - accuracy: 0.9162 - val_loss: 0.2325 - val_accuracy: 0.9128\n",
            "Epoch 25/100\n",
            "3198/3198 [==============================] - 2s 634us/step - loss: 0.2258 - accuracy: 0.9162 - val_loss: 0.2325 - val_accuracy: 0.9127\n",
            "Epoch 26/100\n",
            "3198/3198 [==============================] - 2s 622us/step - loss: 0.2258 - accuracy: 0.9162 - val_loss: 0.2325 - val_accuracy: 0.9128\n",
            "Epoch 27/100\n",
            "3198/3198 [==============================] - 2s 625us/step - loss: 0.2258 - accuracy: 0.9162 - val_loss: 0.2325 - val_accuracy: 0.9128\n",
            "Epoch 28/100\n",
            "3198/3198 [==============================] - 2s 626us/step - loss: 0.2258 - accuracy: 0.9162 - val_loss: 0.2325 - val_accuracy: 0.9128\n",
            "Epoch 29/100\n",
            "3198/3198 [==============================] - 2s 627us/step - loss: 0.2258 - accuracy: 0.9162 - val_loss: 0.2325 - val_accuracy: 0.9128\n",
            "Epoch 30/100\n",
            "3198/3198 [==============================] - 2s 622us/step - loss: 0.2258 - accuracy: 0.9162 - val_loss: 0.2325 - val_accuracy: 0.9128\n",
            "Epoch 31/100\n",
            "3198/3198 [==============================] - 2s 625us/step - loss: 0.2258 - accuracy: 0.9162 - val_loss: 0.2325 - val_accuracy: 0.9128\n",
            "Epoch 32/100\n",
            "3198/3198 [==============================] - 2s 613us/step - loss: 0.2258 - accuracy: 0.9162 - val_loss: 0.2325 - val_accuracy: 0.9128\n",
            "Epoch 33/100\n",
            "3198/3198 [==============================] - 2s 606us/step - loss: 0.2258 - accuracy: 0.9162 - val_loss: 0.2325 - val_accuracy: 0.9127\n",
            "Epoch 34/100\n",
            "3198/3198 [==============================] - 2s 622us/step - loss: 0.2258 - accuracy: 0.9162 - val_loss: 0.2325 - val_accuracy: 0.9127\n",
            "Epoch 35/100\n",
            "3198/3198 [==============================] - 2s 622us/step - loss: 0.2258 - accuracy: 0.9161 - val_loss: 0.2325 - val_accuracy: 0.9127\n",
            "Epoch 36/100\n",
            "3198/3198 [==============================] - 2s 631us/step - loss: 0.2258 - accuracy: 0.9162 - val_loss: 0.2325 - val_accuracy: 0.9128\n",
            "Epoch 37/100\n",
            "3198/3198 [==============================] - 2s 629us/step - loss: 0.2258 - accuracy: 0.9162 - val_loss: 0.2325 - val_accuracy: 0.9128\n",
            "Epoch 38/100\n",
            "3198/3198 [==============================] - 2s 626us/step - loss: 0.2258 - accuracy: 0.9162 - val_loss: 0.2325 - val_accuracy: 0.9128\n",
            "Epoch 39/100\n",
            "3198/3198 [==============================] - 2s 637us/step - loss: 0.2258 - accuracy: 0.9162 - val_loss: 0.2325 - val_accuracy: 0.9128\n",
            "Epoch 40/100\n",
            "3198/3198 [==============================] - 2s 638us/step - loss: 0.2258 - accuracy: 0.9161 - val_loss: 0.2325 - val_accuracy: 0.9129\n",
            "Epoch 41/100\n",
            "3198/3198 [==============================] - 2s 627us/step - loss: 0.2258 - accuracy: 0.9161 - val_loss: 0.2325 - val_accuracy: 0.9129\n",
            "Epoch 42/100\n",
            "3198/3198 [==============================] - 2s 612us/step - loss: 0.2258 - accuracy: 0.9161 - val_loss: 0.2325 - val_accuracy: 0.9129\n",
            "Epoch 43/100\n",
            "3198/3198 [==============================] - 2s 629us/step - loss: 0.2258 - accuracy: 0.9162 - val_loss: 0.2325 - val_accuracy: 0.9129\n",
            "Epoch 44/100\n",
            "3198/3198 [==============================] - 2s 616us/step - loss: 0.2258 - accuracy: 0.9161 - val_loss: 0.2325 - val_accuracy: 0.9128\n",
            "Epoch 45/100\n",
            "3198/3198 [==============================] - 2s 602us/step - loss: 0.2258 - accuracy: 0.9162 - val_loss: 0.2325 - val_accuracy: 0.9128\n",
            "Epoch 46/100\n",
            "3198/3198 [==============================] - 2s 624us/step - loss: 0.2258 - accuracy: 0.9161 - val_loss: 0.2325 - val_accuracy: 0.9128\n",
            "Epoch 47/100\n",
            "3198/3198 [==============================] - 2s 608us/step - loss: 0.2258 - accuracy: 0.9162 - val_loss: 0.2325 - val_accuracy: 0.9128\n",
            "Epoch 48/100\n",
            "3198/3198 [==============================] - 2s 621us/step - loss: 0.2258 - accuracy: 0.9161 - val_loss: 0.2325 - val_accuracy: 0.9128\n",
            "Epoch 49/100\n",
            "3198/3198 [==============================] - 2s 622us/step - loss: 0.2258 - accuracy: 0.9161 - val_loss: 0.2325 - val_accuracy: 0.9128\n",
            "Epoch 50/100\n",
            "3198/3198 [==============================] - 2s 615us/step - loss: 0.2258 - accuracy: 0.9161 - val_loss: 0.2325 - val_accuracy: 0.9128\n",
            "Epoch 51/100\n",
            "3198/3198 [==============================] - 2s 633us/step - loss: 0.2258 - accuracy: 0.9161 - val_loss: 0.2325 - val_accuracy: 0.9128\n",
            "Epoch 52/100\n",
            "3198/3198 [==============================] - 2s 625us/step - loss: 0.2258 - accuracy: 0.9162 - val_loss: 0.2325 - val_accuracy: 0.9128\n",
            "Epoch 53/100\n",
            "3198/3198 [==============================] - 2s 623us/step - loss: 0.2258 - accuracy: 0.9162 - val_loss: 0.2325 - val_accuracy: 0.9128\n",
            "Epoch 54/100\n",
            "3198/3198 [==============================] - 2s 624us/step - loss: 0.2258 - accuracy: 0.9162 - val_loss: 0.2325 - val_accuracy: 0.9128\n",
            "Epoch 55/100\n",
            "3198/3198 [==============================] - 2s 608us/step - loss: 0.2258 - accuracy: 0.9162 - val_loss: 0.2325 - val_accuracy: 0.9128\n",
            "Epoch 56/100\n"
          ]
        },
        {
          "name": "stdout",
          "output_type": "stream",
          "text": [
            "3198/3198 [==============================] - 2s 622us/step - loss: 0.2258 - accuracy: 0.9161 - val_loss: 0.2325 - val_accuracy: 0.9128\n",
            "Epoch 57/100\n",
            "3198/3198 [==============================] - 2s 603us/step - loss: 0.2258 - accuracy: 0.9162 - val_loss: 0.2325 - val_accuracy: 0.9128\n",
            "Epoch 58/100\n",
            "3198/3198 [==============================] - 2s 623us/step - loss: 0.2258 - accuracy: 0.9162 - val_loss: 0.2325 - val_accuracy: 0.9128\n",
            "Epoch 59/100\n",
            "3198/3198 [==============================] - 2s 616us/step - loss: 0.2258 - accuracy: 0.9162 - val_loss: 0.2325 - val_accuracy: 0.9128\n",
            "Epoch 60/100\n",
            "3198/3198 [==============================] - 2s 632us/step - loss: 0.2258 - accuracy: 0.9162 - val_loss: 0.2325 - val_accuracy: 0.9128\n",
            "Epoch 61/100\n",
            "3198/3198 [==============================] - 2s 629us/step - loss: 0.2258 - accuracy: 0.9162 - val_loss: 0.2325 - val_accuracy: 0.9127\n",
            "Epoch 62/100\n",
            "3198/3198 [==============================] - 2s 641us/step - loss: 0.2258 - accuracy: 0.9162 - val_loss: 0.2325 - val_accuracy: 0.9127\n",
            "Epoch 63/100\n",
            "3198/3198 [==============================] - 2s 622us/step - loss: 0.2258 - accuracy: 0.9162 - val_loss: 0.2325 - val_accuracy: 0.9127\n",
            "Epoch 64/100\n",
            "3198/3198 [==============================] - 2s 629us/step - loss: 0.2258 - accuracy: 0.9162 - val_loss: 0.2325 - val_accuracy: 0.9128\n",
            "Epoch 65/100\n",
            "3198/3198 [==============================] - 2s 606us/step - loss: 0.2258 - accuracy: 0.9162 - val_loss: 0.2325 - val_accuracy: 0.9127\n",
            "Epoch 66/100\n",
            "3198/3198 [==============================] - 2s 615us/step - loss: 0.2258 - accuracy: 0.9162 - val_loss: 0.2325 - val_accuracy: 0.9127\n",
            "Epoch 67/100\n",
            "3198/3198 [==============================] - 2s 625us/step - loss: 0.2258 - accuracy: 0.9162 - val_loss: 0.2325 - val_accuracy: 0.9127\n",
            "Epoch 68/100\n",
            "3198/3198 [==============================] - 2s 615us/step - loss: 0.2258 - accuracy: 0.9162 - val_loss: 0.2325 - val_accuracy: 0.9127\n",
            "Epoch 69/100\n",
            "3198/3198 [==============================] - 2s 625us/step - loss: 0.2258 - accuracy: 0.9162 - val_loss: 0.2325 - val_accuracy: 0.9127\n",
            "Epoch 70/100\n",
            "3198/3198 [==============================] - 2s 620us/step - loss: 0.2258 - accuracy: 0.9162 - val_loss: 0.2325 - val_accuracy: 0.9127\n",
            "Epoch 71/100\n",
            "3198/3198 [==============================] - 2s 636us/step - loss: 0.2258 - accuracy: 0.9162 - val_loss: 0.2325 - val_accuracy: 0.9126\n",
            "Epoch 72/100\n",
            "3198/3198 [==============================] - 2s 631us/step - loss: 0.2258 - accuracy: 0.9162 - val_loss: 0.2325 - val_accuracy: 0.9127\n",
            "Epoch 73/100\n",
            "3198/3198 [==============================] - 2s 609us/step - loss: 0.2258 - accuracy: 0.9162 - val_loss: 0.2325 - val_accuracy: 0.9127\n",
            "Epoch 74/100\n",
            "3198/3198 [==============================] - 2s 612us/step - loss: 0.2258 - accuracy: 0.9162 - val_loss: 0.2325 - val_accuracy: 0.9127\n",
            "Epoch 75/100\n",
            "3198/3198 [==============================] - 2s 618us/step - loss: 0.2258 - accuracy: 0.9162 - val_loss: 0.2325 - val_accuracy: 0.9127\n",
            "Epoch 76/100\n",
            "3198/3198 [==============================] - 2s 620us/step - loss: 0.2258 - accuracy: 0.9162 - val_loss: 0.2325 - val_accuracy: 0.9127\n",
            "Epoch 77/100\n",
            "3198/3198 [==============================] - 2s 615us/step - loss: 0.2258 - accuracy: 0.9162 - val_loss: 0.2325 - val_accuracy: 0.9127\n",
            "Epoch 78/100\n",
            "3198/3198 [==============================] - 2s 627us/step - loss: 0.2258 - accuracy: 0.9162 - val_loss: 0.2325 - val_accuracy: 0.9127\n",
            "Epoch 79/100\n",
            "3198/3198 [==============================] - 2s 629us/step - loss: 0.2258 - accuracy: 0.9162 - val_loss: 0.2325 - val_accuracy: 0.9126\n",
            "Epoch 80/100\n",
            "3198/3198 [==============================] - 2s 631us/step - loss: 0.2258 - accuracy: 0.9162 - val_loss: 0.2325 - val_accuracy: 0.9126\n",
            "Epoch 81/100\n",
            "3198/3198 [==============================] - 2s 623us/step - loss: 0.2258 - accuracy: 0.9162 - val_loss: 0.2325 - val_accuracy: 0.9126\n",
            "Epoch 82/100\n",
            "3198/3198 [==============================] - 2s 614us/step - loss: 0.2258 - accuracy: 0.9162 - val_loss: 0.2325 - val_accuracy: 0.9126\n",
            "Epoch 83/100\n",
            "3198/3198 [==============================] - 2s 612us/step - loss: 0.2258 - accuracy: 0.9162 - val_loss: 0.2325 - val_accuracy: 0.9126\n",
            "Epoch 84/100\n",
            "3198/3198 [==============================] - 2s 617us/step - loss: 0.2258 - accuracy: 0.9162 - val_loss: 0.2325 - val_accuracy: 0.9127\n",
            "Epoch 85/100\n",
            "3198/3198 [==============================] - 2s 613us/step - loss: 0.2258 - accuracy: 0.9162 - val_loss: 0.2325 - val_accuracy: 0.9126\n",
            "Epoch 86/100\n",
            "3198/3198 [==============================] - 2s 621us/step - loss: 0.2258 - accuracy: 0.9162 - val_loss: 0.2325 - val_accuracy: 0.9126\n",
            "Epoch 87/100\n",
            "3198/3198 [==============================] - 2s 625us/step - loss: 0.2258 - accuracy: 0.9162 - val_loss: 0.2325 - val_accuracy: 0.9126\n",
            "Epoch 88/100\n",
            "3198/3198 [==============================] - 2s 626us/step - loss: 0.2258 - accuracy: 0.9162 - val_loss: 0.2325 - val_accuracy: 0.9126\n",
            "Epoch 89/100\n",
            "3198/3198 [==============================] - 2s 627us/step - loss: 0.2258 - accuracy: 0.9162 - val_loss: 0.2325 - val_accuracy: 0.9126\n",
            "Epoch 90/100\n",
            "3198/3198 [==============================] - 2s 618us/step - loss: 0.2258 - accuracy: 0.9162 - val_loss: 0.2325 - val_accuracy: 0.9126\n",
            "Epoch 91/100\n",
            "3198/3198 [==============================] - 2s 608us/step - loss: 0.2258 - accuracy: 0.9162 - val_loss: 0.2325 - val_accuracy: 0.9126\n",
            "Epoch 92/100\n",
            "3198/3198 [==============================] - 2s 629us/step - loss: 0.2258 - accuracy: 0.9162 - val_loss: 0.2325 - val_accuracy: 0.9126\n",
            "Epoch 93/100\n",
            "3198/3198 [==============================] - 2s 612us/step - loss: 0.2258 - accuracy: 0.9162 - val_loss: 0.2325 - val_accuracy: 0.9126\n",
            "Epoch 94/100\n",
            "3198/3198 [==============================] - 2s 624us/step - loss: 0.2258 - accuracy: 0.9162 - val_loss: 0.2325 - val_accuracy: 0.9126\n",
            "Epoch 95/100\n",
            "3198/3198 [==============================] - 2s 624us/step - loss: 0.2258 - accuracy: 0.9162 - val_loss: 0.2325 - val_accuracy: 0.9126\n",
            "Epoch 96/100\n",
            "3198/3198 [==============================] - 2s 617us/step - loss: 0.2258 - accuracy: 0.9162 - val_loss: 0.2325 - val_accuracy: 0.9127\n",
            "Epoch 97/100\n",
            "3198/3198 [==============================] - 2s 625us/step - loss: 0.2258 - accuracy: 0.9162 - val_loss: 0.2325 - val_accuracy: 0.9126\n",
            "Epoch 98/100\n",
            "3198/3198 [==============================] - 2s 622us/step - loss: 0.2258 - accuracy: 0.9162 - val_loss: 0.2325 - val_accuracy: 0.9126\n",
            "Epoch 99/100\n",
            "3198/3198 [==============================] - 2s 616us/step - loss: 0.2258 - accuracy: 0.9161 - val_loss: 0.2325 - val_accuracy: 0.9126\n",
            "Epoch 100/100\n",
            "3198/3198 [==============================] - 2s 617us/step - loss: 0.2258 - accuracy: 0.9162 - val_loss: 0.2325 - val_accuracy: 0.9126\n"
          ]
        }
      ],
      "source": [
        "history3 = model.fit(X_train, y_train, \n",
        "                        epochs=100, batch_size=64,\n",
        "                        validation_split=0.2, \n",
        "                        shuffle=False)"
      ],
      "id": "f7da0ef8"
    },
    {
      "cell_type": "code",
      "execution_count": null,
      "metadata": {
        "id": "e5804c32",
        "outputId": "7c4a186f-ba0c-46f4-fcf9-af046fd999fe"
      },
      "outputs": [
        {
          "data": {
            "image/png": "[encoded data removed]",
            "text/plain": [
              "<Figure size 432x288 with 1 Axes>"
            ]
          },
          "metadata": {
            "needs_background": "light"
          },
          "output_type": "display_data"
        }
      ],
      "source": [
        "# Plot training and validation loss scores\n",
        "# against the number of epochs.\n",
        "plt.plot(history3.history['loss'], label='Train')\n",
        "plt.plot(history3.history['val_loss'], label='Validation')\n",
        "plt.ylabel('Loss')\n",
        "plt.xlabel('Epoch')\n",
        "plt.title('Model Loss')\n",
        "plt.legend(loc='upper right')\n",
        "plt.ylim(0.20, 0.30)\n",
        "plt.show()"
      ],
      "id": "e5804c32"
    },
    {
      "cell_type": "code",
      "execution_count": null,
      "metadata": {
        "id": "62ee11e3",
        "outputId": "043c8c4e-a7dd-4c3a-a2c4-9afdcfa2c9d2"
      },
      "outputs": [
        {
          "data": {
            "image/png": "[encoded data removed]",
            "text/plain": [
              "<Figure size 432x288 with 1 Axes>"
            ]
          },
          "metadata": {
            "needs_background": "light"
          },
          "output_type": "display_data"
        }
      ],
      "source": [
        "# Plot training and validation accuracy scores\n",
        "# against the number of epochs.\n",
        "plt.plot(history3.history['accuracy'], label='Train')\n",
        "plt.plot(history3.history['val_accuracy'], label='Validation')\n",
        "plt.ylabel('Accuracy')\n",
        "plt.xlabel('Epoch')\n",
        "plt.title('Model Accuracy')\n",
        "plt.legend(loc='upper left')\n",
        "plt.ylim(0.90,0.92)\n",
        "plt.show()"
      ],
      "id": "62ee11e3"
    },
    {
      "cell_type": "code",
      "execution_count": null,
      "metadata": {
        "id": "1QCpaV6ail57",
        "outputId": "dfe72005-c55b-435c-90f6-8befbb2413af"
      },
      "outputs": [
        {
          "name": "stdout",
          "output_type": "stream",
          "text": [
            "7995/7995 [==============================] - 3s 313us/step - loss: 0.4898 - accuracy: 0.9133\n",
            "Train accuracy using Mini Batch GD (Optimizer - Adagrad) is 0.9133\n"
          ]
        }
      ],
      "source": [
        "loss, acc = model3.evaluate(X_train, y_train)\n",
        "print(f\"Train accuracy using Mini Batch GD (Optimizer - Adagrad) is {acc:.4f}\")"
      ],
      "id": "1QCpaV6ail57"
    },
    {
      "cell_type": "code",
      "execution_count": null,
      "metadata": {
        "id": "dc17d2c0",
        "outputId": "1f5938da-4398-43b8-ed99-2df4c85fe7f6"
      },
      "outputs": [
        {
          "name": "stdout",
          "output_type": "stream",
          "text": [
            "1999/1999 [==============================] - 1s 320us/step - loss: 0.4887 - accuracy: 0.9150\n",
            "Test accuracy using Mini Batch GD (Optimizer - Adagrad) is 0.9150\n"
          ]
        }
      ],
      "source": [
        "loss, acc = model3.evaluate(X_test, y_test)\n",
        "print(f\"Test accuracy using Mini Batch GD (Optimizer - Adagrad) is {acc:.4f}\")"
      ],
      "id": "dc17d2c0"
    },
    {
      "cell_type": "markdown",
      "metadata": {
        "id": "qV-osJy_il58"
      },
      "source": [
        "##### References : https://towardsdatascience.com/replicate-a-logistic-regression-model-as-an-artificial-neural-network-in-keras-cd6f49cf4b2c"
      ],
      "id": "qV-osJy_il58"
    },
    {
      "cell_type": "markdown",
      "metadata": {
        "id": "f00bba93"
      },
      "source": [
        "# Mini batch GD (optimier - RMS Prop)\n",
        "\n",
        "**Algorithm RMSProp**\n",
        "\n",
        "*Input:* global learning rate factor $\\alpha$, decay rate $\\rho$, initial parameters $w \\in R^d$.\n",
        "\n",
        "* Initialize $r \\leftarrow 0 \\in R^d$\n",
        "\n",
        "* **loop**\n",
        "  * select a minibatch $\\mathcal{B}$ of size $B$\n",
        "  * compute the stochastic gradient $g \\leftarrow \\frac{1}{B} \\sum_{i \\in \\mathcal{B}} \\nabla f_i(w)$\n",
        "  * accumulate second moment estimate $r_j \\leftarrow \\rho r_j + (1 - \\rho) g_j^2$ for all $j \\in \\{1, \\ldots, d \\}$\n",
        "  * update model $w_j \\rightarrow w_j - \\frac{\\alpha}{\\sqrt{r_j}} \\cdot g_j$ for all $j \\in \\{1, \\ldots, d \\}$\n",
        "  \n",
        "##### References : https://www.deeplearningbook.org/contents/optimization.html"
      ],
      "id": "f00bba93"
    },
    {
      "cell_type": "code",
      "execution_count": null,
      "metadata": {
        "id": "1f96353b"
      },
      "outputs": [],
      "source": [
        "model4 = Sequential()\n",
        "# Add the input layer and first hidden layer\n",
        "model4.add(layers.Dense(units=12, activation='relu', input_dim=X_train.shape[1]))\n",
        "# Add the second hidden layer\n",
        "model4.add(layers.Dense(units=8, activation='relu'))\n",
        "# Add the output layer\n",
        "model4.add(layers.Dense(units=1, activation='sigmoid', name = 'output'))"
      ],
      "id": "1f96353b"
    },
    {
      "cell_type": "code",
      "execution_count": null,
      "metadata": {
        "id": "2aa9a1d2"
      },
      "outputs": [],
      "source": [
        "model4.compile(optimizer = 'RMSprop',\n",
        "             loss = 'binary_crossentropy',\n",
        "             metrics =['accuracy'])"
      ],
      "id": "2aa9a1d2"
    },
    {
      "cell_type": "code",
      "execution_count": null,
      "metadata": {
        "id": "5196d8a5",
        "outputId": "1bd9e5dd-9534-4e68-98cb-71eb363620dc"
      },
      "outputs": [
        {
          "name": "stdout",
          "output_type": "stream",
          "text": [
            "Epoch 1/100\n",
            "3198/3198 [==============================] - 2s 682us/step - loss: 0.2452 - accuracy: 0.9125 - val_loss: 0.2353 - val_accuracy: 0.9126\n",
            "Epoch 2/100\n",
            "3198/3198 [==============================] - 2s 662us/step - loss: 0.2299 - accuracy: 0.9156 - val_loss: 0.2338 - val_accuracy: 0.9130\n",
            "Epoch 3/100\n",
            "3198/3198 [==============================] - 2s 667us/step - loss: 0.2290 - accuracy: 0.9158 - val_loss: 0.2335 - val_accuracy: 0.9131\n",
            "Epoch 4/100\n",
            "3198/3198 [==============================] - 2s 654us/step - loss: 0.2287 - accuracy: 0.9159 - val_loss: 0.2333 - val_accuracy: 0.9130\n",
            "Epoch 5/100\n",
            "3198/3198 [==============================] - 2s 650us/step - loss: 0.2286 - accuracy: 0.9159 - val_loss: 0.2333 - val_accuracy: 0.9130\n",
            "Epoch 6/100\n",
            "3198/3198 [==============================] - 2s 645us/step - loss: 0.2285 - accuracy: 0.9160 - val_loss: 0.2335 - val_accuracy: 0.9128\n",
            "Epoch 7/100\n",
            "3198/3198 [==============================] - 2s 649us/step - loss: 0.2285 - accuracy: 0.9160 - val_loss: 0.2334 - val_accuracy: 0.9129\n",
            "Epoch 8/100\n",
            "3198/3198 [==============================] - 2s 655us/step - loss: 0.2284 - accuracy: 0.9162 - val_loss: 0.2334 - val_accuracy: 0.9128\n",
            "Epoch 9/100\n",
            "3198/3198 [==============================] - 2s 645us/step - loss: 0.2284 - accuracy: 0.9162 - val_loss: 0.2333 - val_accuracy: 0.9128\n",
            "Epoch 10/100\n",
            "3198/3198 [==============================] - 2s 658us/step - loss: 0.2284 - accuracy: 0.9161 - val_loss: 0.2333 - val_accuracy: 0.9129\n",
            "Epoch 11/100\n",
            "3198/3198 [==============================] - 2s 669us/step - loss: 0.2284 - accuracy: 0.9161 - val_loss: 0.2333 - val_accuracy: 0.9130\n",
            "Epoch 12/100\n",
            "3198/3198 [==============================] - 2s 643us/step - loss: 0.2284 - accuracy: 0.9162 - val_loss: 0.2335 - val_accuracy: 0.9128\n",
            "Epoch 13/100\n",
            "3198/3198 [==============================] - 2s 660us/step - loss: 0.2284 - accuracy: 0.9161 - val_loss: 0.2335 - val_accuracy: 0.9128\n",
            "Epoch 14/100\n",
            "3198/3198 [==============================] - 2s 653us/step - loss: 0.2284 - accuracy: 0.9160 - val_loss: 0.2334 - val_accuracy: 0.9127\n",
            "Epoch 15/100\n",
            "3198/3198 [==============================] - 2s 650us/step - loss: 0.2284 - accuracy: 0.9160 - val_loss: 0.2335 - val_accuracy: 0.9127\n",
            "Epoch 16/100\n",
            "3198/3198 [==============================] - 2s 658us/step - loss: 0.2284 - accuracy: 0.9160 - val_loss: 0.2335 - val_accuracy: 0.9129\n",
            "Epoch 17/100\n",
            "3198/3198 [==============================] - 2s 645us/step - loss: 0.2284 - accuracy: 0.9160 - val_loss: 0.2336 - val_accuracy: 0.9130\n",
            "Epoch 18/100\n",
            "3198/3198 [==============================] - 2s 640us/step - loss: 0.2283 - accuracy: 0.9159 - val_loss: 0.2332 - val_accuracy: 0.9130\n",
            "Epoch 19/100\n",
            "3198/3198 [==============================] - 2s 667us/step - loss: 0.2283 - accuracy: 0.9160 - val_loss: 0.2332 - val_accuracy: 0.9131\n",
            "Epoch 20/100\n",
            "3198/3198 [==============================] - 2s 663us/step - loss: 0.2282 - accuracy: 0.9161 - val_loss: 0.2333 - val_accuracy: 0.9129\n",
            "Epoch 21/100\n",
            "3198/3198 [==============================] - 2s 658us/step - loss: 0.2282 - accuracy: 0.9160 - val_loss: 0.2331 - val_accuracy: 0.9130\n",
            "Epoch 22/100\n",
            "3198/3198 [==============================] - 2s 645us/step - loss: 0.2282 - accuracy: 0.9160 - val_loss: 0.2331 - val_accuracy: 0.9130\n",
            "Epoch 23/100\n",
            "3198/3198 [==============================] - 2s 663us/step - loss: 0.2282 - accuracy: 0.9160 - val_loss: 0.2330 - val_accuracy: 0.9131\n",
            "Epoch 24/100\n",
            "3198/3198 [==============================] - 2s 662us/step - loss: 0.2282 - accuracy: 0.9160 - val_loss: 0.2330 - val_accuracy: 0.9129\n",
            "Epoch 25/100\n",
            "3198/3198 [==============================] - 2s 661us/step - loss: 0.2282 - accuracy: 0.9160 - val_loss: 0.2330 - val_accuracy: 0.9129\n",
            "Epoch 26/100\n",
            "3198/3198 [==============================] - 2s 653us/step - loss: 0.2281 - accuracy: 0.9160 - val_loss: 0.2330 - val_accuracy: 0.9129\n",
            "Epoch 27/100\n",
            "3198/3198 [==============================] - 2s 634us/step - loss: 0.2281 - accuracy: 0.9160 - val_loss: 0.2329 - val_accuracy: 0.9127\n",
            "Epoch 28/100\n",
            "3198/3198 [==============================] - 2s 639us/step - loss: 0.2281 - accuracy: 0.9161 - val_loss: 0.2329 - val_accuracy: 0.9129\n",
            "Epoch 29/100\n",
            "3198/3198 [==============================] - 2s 654us/step - loss: 0.2281 - accuracy: 0.9161 - val_loss: 0.2328 - val_accuracy: 0.9129\n",
            "Epoch 30/100\n",
            "3198/3198 [==============================] - 2s 651us/step - loss: 0.2281 - accuracy: 0.9161 - val_loss: 0.2329 - val_accuracy: 0.9130\n",
            "Epoch 31/100\n",
            "3198/3198 [==============================] - 2s 642us/step - loss: 0.2281 - accuracy: 0.9160 - val_loss: 0.2330 - val_accuracy: 0.9128\n",
            "Epoch 32/100\n",
            "3198/3198 [==============================] - 2s 646us/step - loss: 0.2281 - accuracy: 0.9160 - val_loss: 0.2329 - val_accuracy: 0.9129\n",
            "Epoch 33/100\n",
            "3198/3198 [==============================] - 2s 654us/step - loss: 0.2281 - accuracy: 0.9160 - val_loss: 0.2329 - val_accuracy: 0.9131\n",
            "Epoch 34/100\n",
            "3198/3198 [==============================] - 2s 637us/step - loss: 0.2281 - accuracy: 0.9161 - val_loss: 0.2329 - val_accuracy: 0.9131\n",
            "Epoch 35/100\n",
            "3198/3198 [==============================] - 2s 653us/step - loss: 0.2281 - accuracy: 0.9161 - val_loss: 0.2329 - val_accuracy: 0.9131\n",
            "Epoch 36/100\n",
            "3198/3198 [==============================] - 2s 645us/step - loss: 0.2281 - accuracy: 0.9161 - val_loss: 0.2330 - val_accuracy: 0.9130\n",
            "Epoch 37/100\n",
            "3198/3198 [==============================] - 2s 652us/step - loss: 0.2281 - accuracy: 0.9161 - val_loss: 0.2331 - val_accuracy: 0.9130\n",
            "Epoch 38/100\n",
            "3198/3198 [==============================] - 2s 635us/step - loss: 0.2282 - accuracy: 0.9160 - val_loss: 0.2331 - val_accuracy: 0.9129\n",
            "Epoch 39/100\n",
            "3198/3198 [==============================] - 2s 648us/step - loss: 0.2282 - accuracy: 0.9161 - val_loss: 0.2331 - val_accuracy: 0.9129\n",
            "Epoch 40/100\n",
            "3198/3198 [==============================] - 2s 675us/step - loss: 0.2282 - accuracy: 0.9161 - val_loss: 0.2332 - val_accuracy: 0.9128\n",
            "Epoch 41/100\n",
            "3198/3198 [==============================] - 2s 640us/step - loss: 0.2281 - accuracy: 0.9161 - val_loss: 0.2332 - val_accuracy: 0.9128\n",
            "Epoch 42/100\n",
            "3198/3198 [==============================] - 2s 650us/step - loss: 0.2281 - accuracy: 0.9161 - val_loss: 0.2333 - val_accuracy: 0.9128\n",
            "Epoch 43/100\n",
            "3198/3198 [==============================] - 2s 650us/step - loss: 0.2281 - accuracy: 0.9161 - val_loss: 0.2332 - val_accuracy: 0.9128\n",
            "Epoch 44/100\n",
            "3198/3198 [==============================] - 2s 652us/step - loss: 0.2282 - accuracy: 0.9161 - val_loss: 0.2332 - val_accuracy: 0.9128\n",
            "Epoch 45/100\n",
            "3198/3198 [==============================] - 2s 657us/step - loss: 0.2281 - accuracy: 0.9160 - val_loss: 0.2333 - val_accuracy: 0.9127\n",
            "Epoch 46/100\n",
            "3198/3198 [==============================] - 2s 649us/step - loss: 0.2282 - accuracy: 0.9160 - val_loss: 0.2332 - val_accuracy: 0.9128\n",
            "Epoch 47/100\n",
            "3198/3198 [==============================] - 2s 648us/step - loss: 0.2282 - accuracy: 0.9160 - val_loss: 0.2333 - val_accuracy: 0.9128\n",
            "Epoch 48/100\n",
            "3198/3198 [==============================] - 2s 642us/step - loss: 0.2282 - accuracy: 0.9160 - val_loss: 0.2334 - val_accuracy: 0.9129\n",
            "Epoch 49/100\n",
            "3198/3198 [==============================] - 2s 651us/step - loss: 0.2282 - accuracy: 0.9160 - val_loss: 0.2332 - val_accuracy: 0.9130\n",
            "Epoch 50/100\n",
            "3198/3198 [==============================] - 2s 645us/step - loss: 0.2282 - accuracy: 0.9160 - val_loss: 0.2331 - val_accuracy: 0.9133\n",
            "Epoch 51/100\n",
            "3198/3198 [==============================] - 2s 645us/step - loss: 0.2282 - accuracy: 0.9159 - val_loss: 0.2336 - val_accuracy: 0.9133\n",
            "Epoch 52/100\n",
            "3198/3198 [==============================] - 2s 637us/step - loss: 0.2282 - accuracy: 0.9159 - val_loss: 0.2335 - val_accuracy: 0.9131\n",
            "Epoch 53/100\n",
            "3198/3198 [==============================] - 2s 648us/step - loss: 0.2282 - accuracy: 0.9160 - val_loss: 0.2334 - val_accuracy: 0.9132\n",
            "Epoch 54/100\n",
            "3198/3198 [==============================] - 2s 664us/step - loss: 0.2282 - accuracy: 0.9159 - val_loss: 0.2334 - val_accuracy: 0.9130\n",
            "Epoch 55/100\n",
            "3198/3198 [==============================] - 2s 647us/step - loss: 0.2283 - accuracy: 0.9159 - val_loss: 0.2336 - val_accuracy: 0.9132\n",
            "Epoch 56/100\n"
          ]
        },
        {
          "name": "stdout",
          "output_type": "stream",
          "text": [
            "3198/3198 [==============================] - 2s 636us/step - loss: 0.2283 - accuracy: 0.9160 - val_loss: 0.2334 - val_accuracy: 0.9130\n",
            "Epoch 57/100\n",
            "3198/3198 [==============================] - 2s 651us/step - loss: 0.2283 - accuracy: 0.9160 - val_loss: 0.2335 - val_accuracy: 0.9132\n",
            "Epoch 58/100\n",
            "3198/3198 [==============================] - 2s 656us/step - loss: 0.2283 - accuracy: 0.9160 - val_loss: 0.2335 - val_accuracy: 0.9131\n",
            "Epoch 59/100\n",
            "3198/3198 [==============================] - 2s 649us/step - loss: 0.2282 - accuracy: 0.9161 - val_loss: 0.2335 - val_accuracy: 0.9130\n",
            "Epoch 60/100\n",
            "3198/3198 [==============================] - 2s 640us/step - loss: 0.2282 - accuracy: 0.9160 - val_loss: 0.2335 - val_accuracy: 0.9132\n",
            "Epoch 61/100\n",
            "3198/3198 [==============================] - 2s 653us/step - loss: 0.2282 - accuracy: 0.9161 - val_loss: 0.2334 - val_accuracy: 0.9132\n",
            "Epoch 62/100\n",
            "3198/3198 [==============================] - 2s 648us/step - loss: 0.2282 - accuracy: 0.9161 - val_loss: 0.2336 - val_accuracy: 0.9131\n",
            "Epoch 63/100\n",
            "3198/3198 [==============================] - 2s 658us/step - loss: 0.2282 - accuracy: 0.9160 - val_loss: 0.2335 - val_accuracy: 0.9132\n",
            "Epoch 64/100\n",
            "3198/3198 [==============================] - 2s 655us/step - loss: 0.2282 - accuracy: 0.9161 - val_loss: 0.2335 - val_accuracy: 0.9136\n",
            "Epoch 65/100\n",
            "3198/3198 [==============================] - 2s 641us/step - loss: 0.2282 - accuracy: 0.9161 - val_loss: 0.2334 - val_accuracy: 0.9134\n",
            "Epoch 66/100\n",
            "3198/3198 [==============================] - 2s 666us/step - loss: 0.2282 - accuracy: 0.9160 - val_loss: 0.2335 - val_accuracy: 0.9133\n",
            "Epoch 67/100\n",
            "3198/3198 [==============================] - 2s 669us/step - loss: 0.2282 - accuracy: 0.9160 - val_loss: 0.2336 - val_accuracy: 0.9133\n",
            "Epoch 68/100\n",
            "3198/3198 [==============================] - 2s 654us/step - loss: 0.2282 - accuracy: 0.9159 - val_loss: 0.2336 - val_accuracy: 0.9133\n",
            "Epoch 69/100\n",
            "3198/3198 [==============================] - 2s 650us/step - loss: 0.2282 - accuracy: 0.9159 - val_loss: 0.2335 - val_accuracy: 0.9132\n",
            "Epoch 70/100\n",
            "3198/3198 [==============================] - 2s 643us/step - loss: 0.2282 - accuracy: 0.9159 - val_loss: 0.2337 - val_accuracy: 0.9132\n",
            "Epoch 71/100\n",
            "3198/3198 [==============================] - 2s 652us/step - loss: 0.2282 - accuracy: 0.9158 - val_loss: 0.2337 - val_accuracy: 0.9132\n",
            "Epoch 72/100\n",
            "3198/3198 [==============================] - 2s 643us/step - loss: 0.2282 - accuracy: 0.9158 - val_loss: 0.2338 - val_accuracy: 0.9131\n",
            "Epoch 73/100\n",
            "3198/3198 [==============================] - 2s 657us/step - loss: 0.2282 - accuracy: 0.9159 - val_loss: 0.2337 - val_accuracy: 0.9131\n",
            "Epoch 74/100\n",
            "3198/3198 [==============================] - 2s 651us/step - loss: 0.2282 - accuracy: 0.9158 - val_loss: 0.2337 - val_accuracy: 0.9131\n",
            "Epoch 75/100\n",
            "3198/3198 [==============================] - 2s 653us/step - loss: 0.2282 - accuracy: 0.9158 - val_loss: 0.2339 - val_accuracy: 0.9129\n",
            "Epoch 76/100\n",
            "3198/3198 [==============================] - 2s 659us/step - loss: 0.2283 - accuracy: 0.9159 - val_loss: 0.2338 - val_accuracy: 0.9129\n",
            "Epoch 77/100\n",
            "3198/3198 [==============================] - 2s 643us/step - loss: 0.2283 - accuracy: 0.9159 - val_loss: 0.2338 - val_accuracy: 0.9129\n",
            "Epoch 78/100\n",
            "3198/3198 [==============================] - 2s 643us/step - loss: 0.2284 - accuracy: 0.9159 - val_loss: 0.2337 - val_accuracy: 0.9128\n",
            "Epoch 79/100\n",
            "3198/3198 [==============================] - 2s 646us/step - loss: 0.2284 - accuracy: 0.9160 - val_loss: 0.2337 - val_accuracy: 0.9129\n",
            "Epoch 80/100\n",
            "3198/3198 [==============================] - 2s 659us/step - loss: 0.2284 - accuracy: 0.9159 - val_loss: 0.2339 - val_accuracy: 0.9129\n",
            "Epoch 81/100\n",
            "3198/3198 [==============================] - 2s 643us/step - loss: 0.2284 - accuracy: 0.9159 - val_loss: 0.2338 - val_accuracy: 0.9129\n",
            "Epoch 82/100\n",
            "3198/3198 [==============================] - 2s 647us/step - loss: 0.2284 - accuracy: 0.9160 - val_loss: 0.2338 - val_accuracy: 0.9128\n",
            "Epoch 83/100\n",
            "3198/3198 [==============================] - 2s 630us/step - loss: 0.2284 - accuracy: 0.9160 - val_loss: 0.2338 - val_accuracy: 0.9126\n",
            "Epoch 84/100\n",
            "3198/3198 [==============================] - 2s 644us/step - loss: 0.2284 - accuracy: 0.9160 - val_loss: 0.2339 - val_accuracy: 0.9128\n",
            "Epoch 85/100\n",
            "3198/3198 [==============================] - 2s 630us/step - loss: 0.2284 - accuracy: 0.9160 - val_loss: 0.2338 - val_accuracy: 0.9127\n",
            "Epoch 86/100\n",
            "3198/3198 [==============================] - 2s 636us/step - loss: 0.2284 - accuracy: 0.9161 - val_loss: 0.2338 - val_accuracy: 0.9127\n",
            "Epoch 87/100\n",
            "3198/3198 [==============================] - 2s 652us/step - loss: 0.2284 - accuracy: 0.9160 - val_loss: 0.2338 - val_accuracy: 0.9129\n",
            "Epoch 88/100\n",
            "3198/3198 [==============================] - 2s 661us/step - loss: 0.2284 - accuracy: 0.9160 - val_loss: 0.2339 - val_accuracy: 0.9130\n",
            "Epoch 89/100\n",
            "3198/3198 [==============================] - 2s 660us/step - loss: 0.2284 - accuracy: 0.9160 - val_loss: 0.2338 - val_accuracy: 0.9129\n",
            "Epoch 90/100\n",
            "3198/3198 [==============================] - 2s 662us/step - loss: 0.2284 - accuracy: 0.9159 - val_loss: 0.2336 - val_accuracy: 0.9130\n",
            "Epoch 91/100\n",
            "3198/3198 [==============================] - 2s 661us/step - loss: 0.2284 - accuracy: 0.9160 - val_loss: 0.2336 - val_accuracy: 0.9131\n",
            "Epoch 92/100\n",
            "3198/3198 [==============================] - 2s 649us/step - loss: 0.2284 - accuracy: 0.9161 - val_loss: 0.2336 - val_accuracy: 0.9131\n",
            "Epoch 93/100\n",
            "3198/3198 [==============================] - 2s 641us/step - loss: 0.2284 - accuracy: 0.9161 - val_loss: 0.2336 - val_accuracy: 0.9129\n",
            "Epoch 94/100\n",
            "3198/3198 [==============================] - 2s 662us/step - loss: 0.2284 - accuracy: 0.9161 - val_loss: 0.2335 - val_accuracy: 0.9130\n",
            "Epoch 95/100\n",
            "3198/3198 [==============================] - 2s 654us/step - loss: 0.2284 - accuracy: 0.9161 - val_loss: 0.2336 - val_accuracy: 0.9129\n",
            "Epoch 96/100\n",
            "3198/3198 [==============================] - 2s 650us/step - loss: 0.2285 - accuracy: 0.9161 - val_loss: 0.2336 - val_accuracy: 0.9129\n",
            "Epoch 97/100\n",
            "3198/3198 [==============================] - 2s 655us/step - loss: 0.2285 - accuracy: 0.9162 - val_loss: 0.2336 - val_accuracy: 0.9130\n",
            "Epoch 98/100\n",
            "3198/3198 [==============================] - 2s 635us/step - loss: 0.2285 - accuracy: 0.9162 - val_loss: 0.2337 - val_accuracy: 0.9129\n",
            "Epoch 99/100\n",
            "3198/3198 [==============================] - 2s 649us/step - loss: 0.2285 - accuracy: 0.9162 - val_loss: 0.2337 - val_accuracy: 0.9129\n",
            "Epoch 100/100\n",
            "3198/3198 [==============================] - 2s 645us/step - loss: 0.2286 - accuracy: 0.9162 - val_loss: 0.2338 - val_accuracy: 0.9129\n"
          ]
        }
      ],
      "source": [
        "history4 = model4.fit(X_train, y_train, \n",
        "                        epochs=100, batch_size=64,\n",
        "                        validation_split=0.2, \n",
        "                        shuffle=False)"
      ],
      "id": "5196d8a5"
    },
    {
      "cell_type": "code",
      "execution_count": null,
      "metadata": {
        "id": "a8ccd0b4",
        "outputId": "c249198c-0c72-4e9b-a496-344a18193417"
      },
      "outputs": [
        {
          "data": {
            "image/png": "[encoded data removed]",
            "text/plain": [
              "<Figure size 432x288 with 1 Axes>"
            ]
          },
          "metadata": {
            "needs_background": "light"
          },
          "output_type": "display_data"
        }
      ],
      "source": [
        "# Plot training and validation loss scores\n",
        "# against the number of epochs.\n",
        "plt.plot(history4.history['loss'], label='Train')\n",
        "plt.plot(history4.history['val_loss'], label='Validation')\n",
        "plt.ylabel('Loss')\n",
        "plt.xlabel('Epoch')\n",
        "plt.title('Model Loss')\n",
        "plt.legend(loc='upper right')\n",
        "plt.show()"
      ],
      "id": "a8ccd0b4"
    },
    {
      "cell_type": "code",
      "execution_count": null,
      "metadata": {
        "id": "e56dc6cb",
        "outputId": "2f61923c-dddf-465b-9324-e5d0127f86e3"
      },
      "outputs": [
        {
          "data": {
            "image/png": "[encoded data removed]",
            "text/plain": [
              "<Figure size 432x288 with 1 Axes>"
            ]
          },
          "metadata": {
            "needs_background": "light"
          },
          "output_type": "display_data"
        }
      ],
      "source": [
        "# Plot training and validation accuracy scores\n",
        "# against the number of epochs.\n",
        "plt.plot(history4.history['accuracy'], label='Train')\n",
        "plt.plot(history4.history['val_accuracy'], label='Validation')\n",
        "plt.ylabel('Accuracy')\n",
        "plt.xlabel('Epoch')\n",
        "plt.title('Model Accuracy')\n",
        "plt.legend(loc='upper left')\n",
        "plt.show()"
      ],
      "id": "e56dc6cb"
    },
    {
      "cell_type": "code",
      "execution_count": null,
      "metadata": {
        "id": "MCY9qWDbil6D",
        "outputId": "6569954c-3335-4100-8204-2330b74d5d22"
      },
      "outputs": [
        {
          "name": "stdout",
          "output_type": "stream",
          "text": [
            "1999/1999 [==============================] - 1s 330us/step - loss: 0.2282 - accuracy: 0.9174\n",
            "Train accuracy using Mini Batch GD (Optimizer - RMSprop) is 0.9174\n"
          ]
        }
      ],
      "source": [
        "loss, acc = model4.evaluate(X_test, y_test)\n",
        "print(f\"Train accuracy using Mini Batch GD (Optimizer - RMSprop) is {acc:.4f}\")"
      ],
      "id": "MCY9qWDbil6D"
    },
    {
      "cell_type": "code",
      "execution_count": null,
      "metadata": {
        "id": "a736ea05",
        "outputId": "dab06c06-b18c-47b2-f01d-44e63d238e03",
        "scrolled": true
      },
      "outputs": [
        {
          "name": "stdout",
          "output_type": "stream",
          "text": [
            "1999/1999 [==============================] - 1s 331us/step - loss: 0.2282 - accuracy: 0.9174\n",
            "Test accuracy using Mini Batch GD (Optimizer - RMSprop) is 0.9174\n"
          ]
        }
      ],
      "source": [
        "loss, acc = model4.evaluate(X_test, y_test)\n",
        "print(f\"Test accuracy using Mini Batch GD (Optimizer - RMSprop) is {acc:.4f}\")"
      ],
      "id": "a736ea05"
    },
    {
      "cell_type": "markdown",
      "metadata": {
        "id": "WIb9DBpeil6E"
      },
      "source": [
        "##### References : https://towardsdatascience.com/replicate-a-logistic-regression-model-as-an-artificial-neural-network-in-keras-cd6f49cf4b2c"
      ],
      "id": "WIb9DBpeil6E"
    },
    {
      "cell_type": "markdown",
      "metadata": {
        "id": "6f31779e"
      },
      "source": [
        "# Compare the optimizers"
      ],
      "id": "6f31779e"
    },
    {
      "cell_type": "markdown",
      "metadata": {
        "id": "55b79dcd"
      },
      "source": [
        "## Loss Graph"
      ],
      "id": "55b79dcd"
    },
    {
      "cell_type": "code",
      "execution_count": null,
      "metadata": {
        "id": "278149b2",
        "outputId": "519a148f-72a5-4e6b-cbd5-9f4f49902d59"
      },
      "outputs": [
        {
          "data": {
            "image/png": "[encoded data removed]",
            "text/plain": [
              "<Figure size 432x288 with 1 Axes>"
            ]
          },
          "metadata": {
            "needs_background": "light"
          },
          "output_type": "display_data"
        }
      ],
      "source": [
        "plt.plot(history.history['loss'], label='GD')\n",
        "plt.plot(history1.history['loss'], label='SGD')\n",
        "plt.plot(history2.history['loss'], label='Minibatch Adam')\n",
        "plt.plot(history3.history['loss'], label='Minibatch Adagrad')\n",
        "plt.plot(history4.history['loss'], label='Minibatch RMSProp')\n",
        "plt.ylabel('Loss')\n",
        "plt.xlabel('Epoch')\n",
        "plt.xlim(0, 20) \n",
        "plt.title('Loss')\n",
        "plt.legend(loc='upper right')\n",
        "plt.show()"
      ],
      "id": "278149b2"
    },
    {
      "cell_type": "markdown",
      "metadata": {
        "id": "a49105e9"
      },
      "source": [
        "## Accuracy Graph"
      ],
      "id": "a49105e9"
    },
    {
      "cell_type": "code",
      "execution_count": null,
      "metadata": {
        "id": "aafbd65a",
        "outputId": "1de1c475-07f8-42ad-c4a2-f979837d4005"
      },
      "outputs": [
        {
          "data": {
            "image/png": "[encoded data removed]",
            "text/plain": [
              "<Figure size 432x288 with 1 Axes>"
            ]
          },
          "metadata": {
            "needs_background": "light"
          },
          "output_type": "display_data"
        }
      ],
      "source": [
        "plt.plot(history.history['accuracy'], label='GD')\n",
        "plt.plot(history1.history['accuracy'], label='SGD')\n",
        "plt.plot(history2.history['accuracy'], label='Minibatch Adam')\n",
        "plt.plot(history3.history['accuracy'], label='Minibatch Adagrad')\n",
        "plt.plot(history4.history['accuracy'], label='Minibatch RMSProp')\n",
        "plt.ylabel('Accuracy')\n",
        "plt.xlabel('Epoch')\n",
        "plt.xlim(0, 50) \n",
        "plt.title('Accuracy')\n",
        "plt.legend(loc='lower right')\n",
        "plt.show()"
      ],
      "id": "aafbd65a"
    },
    {
      "cell_type": "code",
      "execution_count": null,
      "metadata": {
        "id": "a067707e"
      },
      "outputs": [],
      "source": [],
      "id": "a067707e"
    }
  ],
  "metadata": {
    "colab": {
      "collapsed_sections": [
        "fef14464",
        "9d24e24d",
        "6b31d8c9"
      ],
      "provenance": []
    },
    "kernelspec": {
      "display_name": "Python 3",
      "language": "python",
      "name": "python3"
    },
    "language_info": {
      "codemirror_mode": {
        "name": "ipython",
        "version": 3
      },
      "file_extension": ".py",
      "mimetype": "text/x-python",
      "name": "python",
      "nbconvert_exporter": "python",
      "pygments_lexer": "ipython3",
      "version": "3.7.3"
    }
  },
  "nbformat": 4,
  "nbformat_minor": 5
}